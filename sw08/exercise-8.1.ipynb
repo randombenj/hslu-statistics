{
 "cells": [
  {
   "cell_type": "markdown",
   "metadata": {},
   "source": [
    "Der skeptische Konsument gibt nicht auf und versucht weiterhin, den Weinhändler\n",
    "des Betrugs zu überführen. Der Weininhalt der 12 erworbenen Weinflaschen lauten:\n",
    "\n",
    "71, 69, 67, 68, 73, 72, 71, 71, 68, 72, 69, 72 (in Zentiliter)"
   ]
  },
  {
   "cell_type": "markdown",
   "metadata": {},
   "source": [
    "---\n",
    "a) Nun zweifeln wir daran, ob die Daten wirklich gut durch eine Normalverteilung\n",
    "beschrieben werden können (diese Annahme haben wir sowohl beim z- als auch\n",
    "beim t-Test gemacht). Wenn die Normalverteilungsannahme nicht gemacht\n",
    "werden kann, können wir den Vorzeichen-Test durchführen. Führen Sie also\n",
    "den Vorzeichen-Test auf dem 5 %-Signifikanzniveau durch. Wie lautet nun das\n",
    "Ergebnis? Python-Hinweis:\n",
    "    \n",
    "```python\n",
    "import scipy.stats as st\n",
    "st.binom.cdf(k=..., n=..., p=...)\n",
    "st.binom_test(x=..., n=..., p=..., alternative='...')\n",
    "```"
   ]
  },
  {
   "cell_type": "code",
   "execution_count": 3,
   "metadata": {},
   "outputs": [],
   "source": [
    "import numpy as np\n",
    "data = np.array([71, 69, 67, 68, 73, 72, 71, 71, 68, 72, 69, 72])"
   ]
  },
  {
   "cell_type": "markdown",
   "metadata": {},
   "source": [
    "\\begin{equation}\n",
    "H_0: \\mu = 70 \\\\\n",
    "H_A: \\mu < 70\n",
    "\\end{equation}"
   ]
  },
  {
   "cell_type": "code",
   "execution_count": 21,
   "metadata": {},
   "outputs": [
    {
     "name": "stdout",
     "output_type": "stream",
     "text": [
      "[71, 73, 72, 71, 71, 72, 72] (len 7)\n"
     ]
    },
    {
     "data": {
      "text/plain": [
       "0.80615234375"
      ]
     },
     "execution_count": 21,
     "metadata": {},
     "output_type": "execute_result"
    }
   ],
   "source": [
    "import scipy.stats as st\n",
    "\n",
    "filtered_data = list(filter(lambda x: x >= 70, data))\n",
    "print(f\"{filtered_data} (len {len(filtered_data)})\")\n",
    "\n",
    "st.binom_test(x=len(filtered_data), n=data.size, p=0.5, alternative='less')"
   ]
  },
  {
   "cell_type": "markdown",
   "metadata": {},
   "source": [
    "Da 0.81 > 0.05 wir die Nullhypothese angenommen, wir koennen statistisch nicht beweisen dass er uns betruegt, mit dem gegebenen sample beweisen wir dass er uns nicht betruegt."
   ]
  },
  {
   "cell_type": "markdown",
   "metadata": {},
   "source": [
    "---\n",
    "b) Wie lautet das Ergebnis mit dem Wilcoxon-Test? Python-Hinweis:\n",
    "\n",
    "```python\n",
    "import scipy.stats as st\n",
    "st.wilcoxon(..., zero_method=\"wilcox\", correction=True)\n",
    "```"
   ]
  },
  {
   "cell_type": "code",
   "execution_count": 24,
   "metadata": {},
   "outputs": [
    {
     "data": {
      "text/plain": [
       "WilcoxonResult(statistic=44.5, pvalue=0.6837749892111689)"
      ]
     },
     "execution_count": 24,
     "metadata": {},
     "output_type": "execute_result"
    }
   ],
   "source": [
    "st.wilcoxon(data-70, zero_method=\"wilcox\", correction=True, alternative=\"less\")"
   ]
  },
  {
   "cell_type": "markdown",
   "metadata": {},
   "source": [
    "Es ist statistisch sehr unwahrscheinlich, dass der weinhaendler uns betruegt."
   ]
  }
 ],
 "metadata": {
  "kernelspec": {
   "display_name": "Python 3",
   "language": "python",
   "name": "python3"
  },
  "language_info": {
   "codemirror_mode": {
    "name": "ipython",
    "version": 3
   },
   "file_extension": ".py",
   "mimetype": "text/x-python",
   "name": "python",
   "nbconvert_exporter": "python",
   "pygments_lexer": "ipython3",
   "version": "3.6.9"
  }
 },
 "nbformat": 4,
 "nbformat_minor": 2
}
