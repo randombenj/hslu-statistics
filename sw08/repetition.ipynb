{
 "cells": [
  {
   "cell_type": "markdown",
   "metadata": {},
   "source": [
    "# Repetition - Aufgabe 8.5"
   ]
  },
  {
   "cell_type": "markdown",
   "metadata": {},
   "source": [
    "Im Jahr 2013 wurden im Rahmen einer internationalen Zusammenarbeit unter der Leitung der EAWAG in Dübendorf Konzentrationen von illegalen Substanzen im Abwasser von 42 europäischen Städten während einer Woche untersucht (Ort C. et all, _Spatial differences and temporal changes in illicit drug use in Europe quantified by wastewater analysis_, Addiction 2014 Aug).\n",
    "\n",
    "\n",
    "Dabei wurden an 7 aufeinanderfolgenden Tagen (6.-12. März) neben anderen Substanzen die medianen Konzentrationen von Ecstasy (MDMA) im Abwasser gemessenen. Aufgrund dieser Studie war eine Aussage einer vielgelesenen Schweizer Gratiszeitung, dass in Zürich viel mehr Drogen konsumiert werden als anderswo.\n",
    "\n",
    "In der nachfolgenden Tabellle sind für die Städte Zürich und Basel die an den untersuchten Tagen ausgeschiedenen Mengen MDMA aufgeführt. Die Angaben sind in mg pro 1000 Einwohner pro Tag.\n",
    "\n",
    "----------------------------------------------------------\n",
    "| Zürich  | 16.3 | 12.7 | 14.0 | 53.3 | 117  | 62.6 | 27.6 |\n",
    "|-------- | ---- | ---- | ---- | ---- | ---- | ---- | ---- |\n",
    "| Basel   | 10.4 | 8.91 | 11.7 | 29.9 | 46.3 | 25.0 | 29.4 |\n",
    "\n",
    "Nehmen Sie an, dass die täglichen Differenzen $D_i$\n",
    "zwischen den pro tausend Einwohner ausgeschiedenen Mengen von MDMA im Abwasser von Zürich und Basel unabhängig voneinander\n",
    "normalverteilt mit Erwartungswert $\\mu_D$\n",
    "und Standardabweichung $\\sigma_D$ sind.\n",
    "\n",
    "(a) Schätzen Sie aus den Daten den Mittelwert und die\n",
    "Standardabweichung der Differenzen, d.h., $\\widehat{\\mu}_D$ und $\\widehat{\\sigma}_D$.\n",
    "\n"
   ]
  },
  {
   "cell_type": "code",
   "execution_count": 3,
   "metadata": {},
   "outputs": [
    {
     "name": "stdout",
     "output_type": "stream",
     "text": [
      "Mittelwert Differenzen:  20.27\n",
      "Standardabweichung Differenzen:  26.272304175056032\n"
     ]
    },
    {
     "data": {
      "text/plain": [
       "count     7.000000\n",
       "mean     20.270000\n",
       "std      26.272304\n",
       "min      -1.800000\n",
       "25%       3.045000\n",
       "50%       5.900000\n",
       "75%      30.500000\n",
       "max      70.700000\n",
       "dtype: float64"
      ]
     },
     "execution_count": 3,
     "metadata": {},
     "output_type": "execute_result"
    }
   ],
   "source": [
    "import numpy as np\n",
    "from pandas import Series\n",
    "\n",
    "mdma_zuerich = Series([16.3, 12.7, 14.0, 53.3, 117, 62.6, 27.6])\n",
    "mdma_basel = Series([10.4, 8.91, 11.7, 29.9, 46.3, 25.0, 29.4])\n",
    "d = mdma_zuerich - mdma_basel\n",
    "\n",
    "print('Mittelwert Differenzen: ', d.mean())\n",
    "print('Standardabweichung Differenzen: ', d.std())\n",
    "\n",
    "d.describe()"
   ]
  },
  {
   "cell_type": "code",
   "execution_count": 21,
   "metadata": {},
   "outputs": [
    {
     "data": {
      "text/plain": [
       "((array([-1.31487275, -0.74397649, -0.3471943 ,  0.        ,  0.3471943 ,\n",
       "          0.74397649,  1.31487275]),\n",
       "  array([ 12.7,  14. ,  16.3,  27.6,  53.3,  62.6, 117. ])),\n",
       " (38.73276948457169, 43.357142857142854, 0.9116800041693465))"
      ]
     },
     "execution_count": 21,
     "metadata": {},
     "output_type": "execute_result"
    },
    {
     "data": {
      "image/png": "[encoded data removed]",
      "text/plain": [
       "<Figure size 432x288 with 1 Axes>"
      ]
     },
     "metadata": {
      "needs_background": "light"
     },
     "output_type": "display_data"
    }
   ],
   "source": [
    "import scipy.stats as st\n",
    "import matplotlib.pyplot as plt\n",
    "\n",
    "st.probplot(mdma_zuerich, plot=plt)"
   ]
  },
  {
   "cell_type": "code",
   "execution_count": 22,
   "metadata": {},
   "outputs": [
    {
     "data": {
      "text/plain": [
       "((array([-1.31487275, -0.74397649, -0.3471943 ,  0.        ,  0.3471943 ,\n",
       "          0.74397649,  1.31487275]),\n",
       "  array([ 8.91, 10.4 , 11.7 , 25.  , 29.4 , 29.9 , 46.3 ])),\n",
       " (14.52722722416227, 23.087142857142858, 0.9514481592321198))"
      ]
     },
     "execution_count": 22,
     "metadata": {},
     "output_type": "execute_result"
    },
    {
     "data": {
      "image/png": "[encoded data removed]",
      "text/plain": [
       "<Figure size 432x288 with 1 Axes>"
      ]
     },
     "metadata": {
      "needs_background": "light"
     },
     "output_type": "display_data"
    }
   ],
   "source": [
    "st.probplot(mdma_basel, plot=plt)"
   ]
  },
  {
   "cell_type": "markdown",
   "metadata": {},
   "source": [
    "Auf den ersten Blick scheint die Sachlage klar : in Zürich wird \n",
    "mehr MDMA konsumiert. Wir stellen dann allerdings fest, dass die \n",
    "Differenzen eine ziemlich grosse Streuung aufweisen."
   ]
  },
  {
   "cell_type": "markdown",
   "metadata": {},
   "source": [
    "---\n",
    "(b) Handelt es sich um gepaarte oder ungepaarte Stichproben? Begründen Sie Ihre\n",
    "Antwort."
   ]
  },
  {
   "cell_type": "markdown",
   "metadata": {},
   "source": [
    "Die Städte Zürich und Basel können \n",
    "als unterschiedliche Versuchseinheiten aufgefasst werden. \n",
    "Wir fassen die Stichproben also als **ungepaart** auf."
   ]
  },
  {
   "cell_type": "markdown",
   "metadata": {},
   "source": [
    "(c) Formulieren Sie die Nullhypothese und die Alternativhypothese, wenn Sie\n",
    "die Aussage der besagten Gratiszeitung überprüfen möchten.\n"
   ]
  },
  {
   "cell_type": "markdown",
   "metadata": {},
   "source": [
    "Die Nullhypothese lautet, dass es keinen Unterschied zwischen den beiden\n",
    "Städten in Bezug auf die ausgeschiedene Menge an MDMA gibt, also \n",
    "$\\mu_D=\\mu_{\\text{Zürich}}- \\mu_{\\text{Basel}}=\\mu_0=0$.\n",
    "Die Alternativhypothese entspricht der Behauptung der Gratiszeitung, nämlich\n",
    "dass in Zürich mehr Drogen konsumiert werden und damit mehr MDMA ausgeschieden\n",
    "wird, also $\\mu_D>\\mu_0=0$."
   ]
  },
  {
   "cell_type": "markdown",
   "metadata": {},
   "source": [
    "(d) Führen Sie einen statistischen Test mit Hilfe von `Python` auf dem\n",
    "Signifikanzniveau 5\\% durch, unter der Annahme, dass die Daten normalverteilt sind.\n"
   ]
  },
  {
   "cell_type": "code",
   "execution_count": 16,
   "metadata": {},
   "outputs": [
    {
     "data": {
      "text/plain": [
       "0.11162832923388875"
      ]
     },
     "execution_count": 16,
     "metadata": {},
     "output_type": "execute_result"
    }
   ],
   "source": [
    "st.ttest_ind(mdma_zuerich, mdma_basel, equal_var=False).pvalue / 2"
   ]
  },
  {
   "cell_type": "markdown",
   "metadata": {},
   "source": [
    "In diesem Fall ist der zweiseitige $P$-Wert`pvalue=0.2`, d.h., \n",
    "der einseitige $P$-Wert ist grösser als $0.05$, womit die \n",
    "Nullhypothese beibehalten wird.\n",
    "\n",
    "Würden wir die Daten als gepaarte Stichproben \n",
    "auffassen, dann haben wir für \n",
    "$\\overline{D}_n\\sim\\mathcal{N}\\left (\\mu_D,\\frac{\\sigma_D^2}{n}\\right )$ (Zentraler Grenzwertsatz). Dann ist die Teststatistik:\n",
    "$$\n",
    "T = \\frac{\\overline{D}_n-\\mu_0}{\\widehat{\\sigma}_D/\\sqrt{n}}\n",
    "=\\frac{\\sqrt{n}\\overline{D}_n}{\\widehat{\\sigma}_D}\n",
    "$$\n",
    "\n",
    "Verteilung von $T$ unter $H_0$: $T\\sim t_{n-1}= t_{6}$. Mit Python ergibt sich : "
   ]
  },
  {
   "cell_type": "code",
   "execution_count": 15,
   "metadata": {},
   "outputs": [
    {
     "data": {
      "text/plain": [
       "0.04364420087652841"
      ]
     },
     "execution_count": 15,
     "metadata": {},
     "output_type": "execute_result"
    }
   ],
   "source": [
    "st.ttest_rel(mdma_zuerich, mdma_basel).pvalue / 2"
   ]
  },
  {
   "cell_type": "markdown",
   "metadata": {},
   "source": [
    "Da wir hier einen einseitigen Test haben und Python den P-Wert \n",
    "für eine zweiseitige Alternative berechnet, müssen wir den Wert für `pvalue` halbieren und somit ist der  $P$-Wert $0.04364$. Er ist (knapp)  kleiner als $\\alpha=0.05$, und somit wird  auf dem 5\\% Signifikanzniveau die Nullhypothese verworfen. Falls die Daten also als \n",
    "gepaarte Stichproben aufgefasst würden, lautet die Schlussfolgerung, dass signifikant mehr Ecstasy in Zürich als in Basel konsumiert wird.\n",
    "\n"
   ]
  },
  {
   "cell_type": "markdown",
   "metadata": {},
   "source": [
    "(e) Führen Sie nun einen statistischen Test mit Hilfe von Python auf dem Signifikanzniveau 5\\% durch, unter der Annahme, dass die Daten nicht normalverteilt sind."
   ]
  },
  {
   "cell_type": "code",
   "execution_count": 23,
   "metadata": {},
   "outputs": [
    {
     "data": {
      "text/plain": [
       "MannwhitneyuResult(statistic=34.0, pvalue=0.12507650397969117)"
      ]
     },
     "execution_count": 23,
     "metadata": {},
     "output_type": "execute_result"
    }
   ],
   "source": [
    "st.mannwhitneyu(mdma_zuerich, mdma_basel, alternative='greater')"
   ]
  },
  {
   "cell_type": "markdown",
   "metadata": {},
   "source": [
    "Für den Mann-Whitney-U-Test kann in Python die Richtung der \n",
    "Alternativhypothese definiert werden, und zwar mit `alternative=...`. Wir können folglich den Wert von `pvalue` direkt für den Testentscheid herbeiziehen:  Der (einseitige) P-Wert beträgt in diesem Fall $ 0.13 $ und ist somit grösser als das Signifikanzniveau 5\\%. Wir behalten die Nullhypothese also bei. Offenbar hängt der Testentscheid stark von der Verteilungsannahme der Differenzen ab."
   ]
  },
  {
   "cell_type": "markdown",
   "metadata": {},
   "source": [
    "(f) Unter der Annahme, dass es sich um gepaarte Stichproben handelt, geben Sie das (einseitige) 95\\%-Vertrauensintervall für den Mittelwert der Differenzen an, und fällen Sie damit den Testentscheid für eine einseitige nach oben gerichtete Alternativhypothese."
   ]
  },
  {
   "cell_type": "markdown",
   "metadata": {},
   "source": [
    "Das einseitige Vertrauensintervall ist gegeben durch : \n",
    "$ [\\overline{d}_n - t_{n-1,1-\\alpha} \\cdot\\tfrac{\\hat{\\sigma}_D}{\\sqrt{n}} \\; , \\; +\\infty ) $"
   ]
  },
  {
   "cell_type": "code",
   "execution_count": 12,
   "metadata": {},
   "outputs": [
    {
     "data": {
      "text/plain": [
       "0.9742244749346014"
      ]
     },
     "execution_count": 12,
     "metadata": {},
     "output_type": "execute_result"
    }
   ],
   "source": [
    "# unter grenze vertrauensbereich\n",
    "\n",
    "d.mean() - t.ppf(0.95, df=d.size-1) * d.std()/(np.sqrt(d.size))"
   ]
  },
  {
   "cell_type": "markdown",
   "metadata": {},
   "source": [
    "0 ist folglich nicht im Vertrauensintervall enthalten, deswegen verwerfen wir die Nullhypothese in diesem Fall auf dem 5\\% Signifikanzniveau."
   ]
  }
 ],
 "metadata": {
  "kernelspec": {
   "display_name": "Python 3",
   "language": "python",
   "name": "python3"
  },
  "language_info": {
   "codemirror_mode": {
    "name": "ipython",
    "version": 3
   },
   "file_extension": ".py",
   "mimetype": "text/x-python",
   "name": "python",
   "nbconvert_exporter": "python",
   "pygments_lexer": "ipython3",
   "version": "3.6.9"
  }
 },
 "nbformat": 4,
 "nbformat_minor": 2
}
