{
 "cells": [
  {
   "attachments": {
    "image.png": {
     "image/png": "[encoded data removed]"
    }
   },
   "cell_type": "markdown",
   "metadata": {},
   "source": [
    "In der folgenden Tabelle sind die Kieferlängen von 10 männlichen und 10 weiblichen\n",
    "Goldschakalen eingetragen: Einige Kennzahlen: $\\bar{x_n} = 113.4$, $\\bar{y_n} = 108.6$, $\\hat{σ_x^2} = 13.82$,\n",
    "\n",
    "![image.png](attachment:image.png)\n",
    "\n",
    "$\\hat{\\sigma_y^2} = 5.16$. Es stellt sich nun die Frage, ob es einen Unterschied zwischen der Kieferlänge von Männchen und Weibchen gibt."
   ]
  },
  {
   "cell_type": "markdown",
   "metadata": {},
   "source": [
    "---\n",
    "a) Handelt es sich um gepaarte oder ungepaarte Stichproben? Begründen Sie Ihre\n",
    "Antwort."
   ]
  },
  {
   "cell_type": "markdown",
   "metadata": {},
   "source": [
    "Ungepaart, unabhaengige zuordnung"
   ]
  },
  {
   "cell_type": "markdown",
   "metadata": {},
   "source": [
    "---\n",
    "b) Formulieren Sie Nullhypothese und Alternativhypothese."
   ]
  },
  {
   "cell_type": "markdown",
   "metadata": {},
   "source": [
    "Nullhypothese, die Kieferlaenge sind gleich\n",
    "Alternative, die Kieferlaenge weichen signifikant voneinander ab\n",
    "\n",
    "\\begin{equation}\n",
    "H_0: \\mu_x = \\mu_y = 0 \\\\\n",
    "H_A: \\mu_x \\ne \\mu_z\n",
    "\\end{equation}"
   ]
  },
  {
   "cell_type": "markdown",
   "metadata": {},
   "source": [
    "---\n",
    "c) Führen Sie den t-Test nun noch mit Hilfe von Python durch. Geben Sie den\n",
    "resultierenden p-Wert sowie den daraus folgenden Testentscheid an."
   ]
  },
  {
   "cell_type": "code",
   "execution_count": 2,
   "metadata": {},
   "outputs": [
    {
     "data": {
      "text/plain": [
       "(     M    W\n",
       " 0  120  110\n",
       " 1  107  111\n",
       " 2  110  107\n",
       " 3  116  108\n",
       " 4  114  110\n",
       " 5  111  105\n",
       " 6  113  107\n",
       " 7  117  106\n",
       " 8  114  111\n",
       " 9  112  111,\n",
       " Ttest_indResult(statistic=3.4843242131699643, pvalue=0.0033599524351925016))"
      ]
     },
     "execution_count": 2,
     "metadata": {},
     "output_type": "execute_result"
    }
   ],
   "source": [
    "import pandas as pd\n",
    "import scipy.stats as st\n",
    "\n",
    "jackals = pd.read_table(\"jackals.txt\", sep = \" \")\n",
    "jackals, st.ttest_ind(jackals[\"M\"], jackals[\"W\"], equal_var=False)"
   ]
  },
  {
   "cell_type": "markdown",
   "metadata": {},
   "source": [
    "Die Nullhypothese wird verworfen da der p-Wert kleiner ist als 0.05. Das heisst dass die kieferlaenge statistsch signifikant vom Geschlecht abhaengt."
   ]
  },
  {
   "cell_type": "markdown",
   "metadata": {},
   "source": [
    "---\n",
    "d) Führen Sie mit Hilfe von Python einen Wilcoxon-Test durch. Geben Sie wiederum\n",
    "p-Wert und Testentscheid an."
   ]
  },
  {
   "cell_type": "code",
   "execution_count": 3,
   "metadata": {},
   "outputs": [
    {
     "data": {
      "text/plain": [
       "MannwhitneyuResult(statistic=87.5, pvalue=0.004845462884722891)"
      ]
     },
     "execution_count": 3,
     "metadata": {},
     "output_type": "execute_result"
    }
   ],
   "source": [
    "st.mannwhitneyu(jackals[\"M\"], jackals[\"W\"], alternative=\"two-sided\")"
   ]
  },
  {
   "cell_type": "markdown",
   "metadata": {},
   "source": [
    "Die Nullhypothese wird verworfen da der p-Wert kleiner ist als 0.05. Das heisst dass die kieferlaenge statistsch signifikant vom Geschlecht abhaengt."
   ]
  },
  {
   "cell_type": "markdown",
   "metadata": {},
   "source": [
    "---\n",
    "e) Falls die Resultate der beiden Tests unterschiedlich ausgefallen wären, welchem\n",
    "würden Sie eher vertrauen? Weshalb?"
   ]
  },
  {
   "cell_type": "markdown",
   "metadata": {},
   "source": [
    "Eher dem mannwhitneyu test, da wir die verteilungsfamilie nicht kennen und beim t-Test eine Normalverteilung angenommen werden muss."
   ]
  }
 ],
 "metadata": {
  "kernelspec": {
   "display_name": "Python 3",
   "language": "python",
   "name": "python3"
  },
  "language_info": {
   "codemirror_mode": {
    "name": "ipython",
    "version": 3
   },
   "file_extension": ".py",
   "mimetype": "text/x-python",
   "name": "python",
   "nbconvert_exporter": "python",
   "pygments_lexer": "ipython3",
   "version": "3.6.9"
  }
 },
 "nbformat": 4,
 "nbformat_minor": 2
}
