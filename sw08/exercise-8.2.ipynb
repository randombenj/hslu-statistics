{
 "cells": [
  {
   "cell_type": "markdown",
   "metadata": {},
   "source": [
    "Untenstehend finden Sie mehrere Beispiele für Vergleiche von 2 Stichproben. Beantworten Sie für jedes Beispiel kurz die folgenden Fragen:\n",
    "\n",
    "- Handelt es sich um gepaarte oder um ungepaarte Stichproben? Begründen Sie!\n",
    "- Ist der Test einseitig oder zweiseitig durchzuführen? Begründen Sie!\n",
    "- Wie lautet die Nullhypothese in Worten?\n",
    "- Wie lautet die Alternativhypothese in Worten?"
   ]
  },
  {
   "cell_type": "markdown",
   "metadata": {},
   "source": [
    "---\n",
    "a) In einem Experiment sollte der Effekt von Zigarettenrauchen auf Blutplättchenanhäufungen untersucht werden. Dazu wurden 11 Probanden vor und nach\n",
    "dem Rauchen einer Zigarette Blutproben entnommen, und es wurde gemessen,\n",
    "wie stark sich die Blutplättchen anhäuften. Es interessiert, ob sich Blutplättchen\n",
    "durch das Rauchen vermehrt anhäufen."
   ]
  },
  {
   "cell_type": "markdown",
   "metadata": {},
   "source": [
    "- Gepaart (da es sich um die selben Personen handelt)\n",
    "- Einseitig (nur anhäufung wird gefragt, rechtsseitig)\n",
    "- anzahl Blutplättchen vorher = anzahl Blutplättchen nachher\n",
    "- anzahl Blutplättchen vorher < anzahl Blutplättchen nachher"
   ]
  },
  {
   "cell_type": "markdown",
   "metadata": {},
   "source": [
    "---\n",
    "b) Die nächsten Daten sind aus einer Studie von Charles Darwin über die Fremd und Selbstbefruchtung. 15 Paare von Setzlingen mit demselben Alter, je einer\n",
    "durch Selbst- und einer durch Fremdbefruchtung produziert, wurden gezüchtet.\n",
    "Beide Teile je eines Paares hatten nahezu gleiche Bedingungen. Das Ziel bestand\n",
    "darin zu sehen, ob die fremdbefruchteten Pflanzen mehr Lebenskraft besitzen\n",
    "als die selbstbefruchteten (d.h., ob sie grösser werden). Es wurden die Höhen\n",
    "jeder Pflanze nach einer fixen Zeitspanne gemessen."
   ]
  },
  {
   "cell_type": "markdown",
   "metadata": {},
   "source": [
    "- ~~Ungepaart~~ Gepaart (unabhängige Gruppe von Pflanzen)\n",
    "- Einseitig (nur grösser, rechtsseitig)\n",
    "- gleichhoch\n",
    "- frembdbefruchtete sind grösser"
   ]
  },
  {
   "cell_type": "markdown",
   "metadata": {},
   "source": [
    "---\n",
    "c) Beeinflusst der Kalziumgehalt in der Nahrung den systolischen Blutdruck? Zur\n",
    "Überprüfung dieser Frage wurde einer Versuchsgruppe von 10 Männern während 12 Wochen ein Kalziumzusatz verabreicht. Einer Kontrollgruppe von 11\n",
    "Männern gab man ein Placebopräparat."
   ]
  },
  {
   "cell_type": "markdown",
   "metadata": {},
   "source": [
    "- Ungepaart (gruppe mit 10 und kontrollgruppe mit 11)\n",
    "- Beidseitig (beeinflussung auf beide seite)\n",
    "- Blutdruck bleibt gleich\n",
    "- Blutdruck weicht signifikant ab"
   ]
  },
  {
   "cell_type": "markdown",
   "metadata": {},
   "source": [
    "---\n",
    "d) In einem Experiment wurde untersucht, ob Mäuse zwei Formen von Eisen (Fe2+\n",
    "und Fe3+) unterschiedlich gut aufnehmen. Dazu wurden 36 Mäuse in zwei\n",
    "Gruppen zu je 18 unterteilt und die eine Gruppe mit Fe2+ und die andere mit\n",
    "Fe3+ „gefüttert”. Da das Eisen radioaktiv markiert war, konnte sowohl die Anfangskonzentration wie auch die Konzentration einige Zeit später gemessen\n",
    "werden. Daraus wurde für jede Maus der Anteil des aufgenommenen Eisens\n",
    "berechnet."
   ]
  },
  {
   "cell_type": "markdown",
   "metadata": {},
   "source": [
    "- Ungepaart (unabhaengige Mausgruppe und verschiedene Substanzen)\n",
    "- Zweiseitig (unterschiede)\n",
    "- gleichgute aufnahme\n",
    "- unterschiedliche aufnahme"
   ]
  }
 ],
 "metadata": {
  "kernelspec": {
   "display_name": "Python 3",
   "language": "python",
   "name": "python3"
  },
  "language_info": {
   "codemirror_mode": {
    "name": "ipython",
    "version": 3
   },
   "file_extension": ".py",
   "mimetype": "text/x-python",
   "name": "python",
   "nbconvert_exporter": "python",
   "pygments_lexer": "ipython3",
   "version": "3.6.9"
  }
 },
 "nbformat": 4,
 "nbformat_minor": 2
}
