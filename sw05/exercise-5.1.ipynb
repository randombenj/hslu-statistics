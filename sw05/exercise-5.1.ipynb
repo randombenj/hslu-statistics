{
 "cells": [
  {
   "cell_type": "markdown",
   "metadata": {},
   "source": [
    "Mit folgender Simulationsaufgabe sollen Sie mit dem Normalplot vertraut werden."
   ]
  },
  {
   "cell_type": "markdown",
   "metadata": {},
   "source": [
    "a) Simulieren Sie $n=10, 20, 50 und 100$ (standard-) normalverteilte Zufallszahlenund betrachten Sie die jeweilige Folge mit einem Normalplot. Wiederholen Sie diese Simulationen einige Male, bis Sie abschätzen können, wie weit zufällige Abweichungen von einer Geraden im Normalplot üblich sind."
   ]
  },
  {
   "cell_type": "code",
   "execution_count": 1,
   "metadata": {},
   "outputs": [
    {
     "data": {
      "text/plain": [
       "((array([-1.49876728, -0.98494667, -0.64703803, -0.37109819, -0.12121409,\n",
       "          0.12121409,  0.37109819,  0.64703803,  0.98494667,  1.49876728]),\n",
       "  array([-2.54357757, -1.28859574,  0.13540267,  0.33182716,  0.38642945,\n",
       "          0.49491798,  1.09848892,  1.2379363 ,  1.52819154,  2.70818829])),\n",
       " (1.5388296519570457, 0.4089208997582963, 0.9618256940037976))"
      ]
     },
     "execution_count": 1,
     "metadata": {},
     "output_type": "execute_result"
    }
   ],
   "source": [
    "# Python-Hinweise:\n",
    "import matplotlib.pyplot as plt\n",
    "import numpy as np\n",
    "import scipy.stats as st\n",
    "\n",
    "x = st.norm.rvs(size=10)\n",
    "st.probplot(x,plot=plt)"
   ]
  },
  {
   "cell_type": "markdown",
   "metadata": {},
   "source": [
    "b) Langschwänzige Verteilung: Simulieren Sie je $n=20$ und 100 t-verteilte Zufallszahlen mit $ν=20, 7, 3$ Freiheitsgraden. Wiederholen Sie diese Simulationen einige Male, bis Sie abschätzen können, wie gross Abweichungen von einer Geraden im Normalplot üblich sind."
   ]
  },
  {
   "cell_type": "code",
   "execution_count": 2,
   "metadata": {},
   "outputs": [],
   "source": [
    "# Python-Hinweise:\n",
    "x = st.t.rvs(size=10, df=20)"
   ]
  },
  {
   "cell_type": "markdown",
   "metadata": {},
   "source": [
    "c) Schiefe Verteilung: Simulieren Sie je $n=20 und 100$ chiquadrat-verteilte Zufallszahlen mit $ν=20$ und 1 Freiheitsgraden. Wiederholen Sie diese Simulationen einige Male, bis Sie abschätzen können, wie gross Abweichungen von einer Geraden im Normalplot üblich sind."
   ]
  },
  {
   "cell_type": "code",
   "execution_count": 3,
   "metadata": {},
   "outputs": [],
   "source": [
    "# Python-Hinweise:\n",
    "x = st.chi2.rvs(size=10, df=2)"
   ]
  }
 ],
 "metadata": {
  "kernelspec": {
   "display_name": "Python 3",
   "language": "python",
   "name": "python3"
  },
  "language_info": {
   "codemirror_mode": {
    "name": "ipython",
    "version": 3
   },
   "file_extension": ".py",
   "mimetype": "text/x-python",
   "name": "python",
   "nbconvert_exporter": "python",
   "pygments_lexer": "ipython3",
   "version": "3.7.4"
  }
 },
 "nbformat": 4,
 "nbformat_minor": 2
}
