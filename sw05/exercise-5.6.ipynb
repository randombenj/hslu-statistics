{
 "cells": [
  {
   "attachments": {
    "image.png": {
     "image/png": "[encoded data removed]"
    }
   },
   "cell_type": "markdown",
   "metadata": {},
   "source": [
    "In dieser Aufgabe geht es um Parameterschätzung. Wir betrachten eine stetige Verteilung mit folgender Dichte:\n",
    "\n",
    "![image.png](attachment:image.png)\n",
    "\n",
    "wobei $α>0$ ein unbekannter Parameter ist. Wir wollen den Parameter $α$ aus einer Stichprobe schätzen."
   ]
  },
  {
   "cell_type": "markdown",
   "metadata": {},
   "source": [
    "a) Bestimmen Sie die Likelihood- und die Log-Likelihood-Funktion basierend auf $n$ unabhängigen identisch verteilten Beobachtungen $x_1, . . . ,x_n$ einer Zufallsvariablen mit obiger Dichte"
   ]
  },
  {
   "cell_type": "markdown",
   "metadata": {},
   "source": [
    "Die Likelihood funktion:\n",
    "\n",
    "\\begin{align}\n",
    "L(\\theta) = \\prod_{i=1}^{n} \\frac{\\alpha}{x^{\\alpha+1}} = \\alpha^n \\frac{1}{(\\prod_{i=n}^{n} x_n)^{\\alpha+1}}\n",
    "\\end{align}\n",
    "\n",
    "Die Log-Likelihood funktion:\n",
    "\n",
    "\\begin{align}\n",
    "log(L(\\theta)) = n\\log(\\alpha) - (\\alpha+1)\\sum_{i=0}^{n} \\log(x_n)\n",
    "\\end{align}"
   ]
  },
  {
   "cell_type": "markdown",
   "metadata": {},
   "source": [
    "b) Bestimmen Sie den zugehörigen Maximum-Likelihood-Schätzer für $α$. Schreiben Sie zuerst die allgemeine Formel für $n$ Beobachtungen hin und berechnen Sie den Schätzer dann für die folgende konkrete Stichprobe:"
   ]
  },
  {
   "cell_type": "markdown",
   "metadata": {},
   "source": [
    "Nun leiten wir die logarythmierte funktion ab:\n",
    "\n",
    "\\begin{align}\n",
    "\\frac{d}{d\\alpha}(log(L(\\theta)) = \\frac{d}{d\\alpha}(n\\log(\\alpha) - (\\alpha+1)\\sum_{i=0}^{n} \\log(x_n)) = \\frac{n}{\\alpha} - \\sum_{i=0}^{n} \\log(x_n) = 0\n",
    "\\end{align}\n",
    "\n",
    "Somit bekommen wir fuer alpha die folgende formel:\n",
    "\n",
    "\\begin{align}\n",
    "\\hat{\\alpha} = \\frac{n}{\\sum_{i=0}^{n} \\log(x_n)}\n",
    "\\end{align}"
   ]
  },
  {
   "cell_type": "code",
   "execution_count": 2,
   "metadata": {},
   "outputs": [],
   "source": [
    "x_1 = 12.0\n",
    "x_2 = 4.0\n",
    "x_3 = 6.9\n",
    "x_4 = 27.9\n",
    "x_5 = 15.4"
   ]
  },
  {
   "cell_type": "code",
   "execution_count": 3,
   "metadata": {},
   "outputs": [
    {
     "name": "stdout",
     "output_type": "stream",
     "text": [
      "Der aplha wert ist: 0.4213820504741322\n"
     ]
    }
   ],
   "source": [
    "import numpy as np\n",
    "\n",
    "x = np.array([x_1, x_2, x_3, x_4, x_5])\n",
    "\n",
    "# nun berechnen wir \\hat{\\alpha}\n",
    "print(f\"Der aplha wert ist: {x.size/np.sum(np.log(x))}\")"
   ]
  },
  {
   "cell_type": "markdown",
   "metadata": {},
   "source": [
    "c) Bestimmen Sie den Momentenschätzer für $α$, wieder zuerst allgemein basierend auf $n$ unabhängigen Beobachtungen $x_1, . . . ,x_n$ und dann für obige Stichprobe. *Hinweise*: Der Erwartungswert einer Zufallsvariablen $X$ mit obiger Dichte $f$ ist\n",
    "\n",
    "$E[X] = \\frac{α}{α-1}$ für $α > 1$\n",
    "\n",
    "Für $α≤1$ ist der Erwartungswert gleich $∞$ und der Momentenschätzer ist nicht definiert. Sie müssen für diese Teilaufgabe also annehmen, dass $α>1$."
   ]
  },
  {
   "cell_type": "markdown",
   "metadata": {},
   "source": [
    "Momentanschaetzung von $\\alpha$ mit $E(x) = \\frac{1}{n}\\sum_{i=1}^{n}x_i = \\bar{x}$:\n",
    "\n",
    "\\begin{align}\n",
    "\\alpha = \\frac{E(x)}{E(x) - 1} = \\frac{\\bar{x}}{\\bar{x} - 1}\n",
    "\\end{align}"
   ]
  },
  {
   "cell_type": "code",
   "execution_count": 10,
   "metadata": {},
   "outputs": [
    {
     "data": {
      "text/plain": [
       "1.0816993464052287"
      ]
     },
     "execution_count": 10,
     "metadata": {},
     "output_type": "execute_result"
    }
   ],
   "source": [
    "-(x.mean()/(1 - x.mean()))\n",
    "x.mean()/(x.mean() - 1)"
   ]
  },
  {
   "cell_type": "code",
   "execution_count": 11,
   "metadata": {},
   "outputs": [
    {
     "data": {
      "text/plain": [
       "0.015105740181268881"
      ]
     },
     "execution_count": 11,
     "metadata": {},
     "output_type": "execute_result"
    }
   ],
   "source": [
    "1/np.sum(x)"
   ]
  },
  {
   "cell_type": "markdown",
   "metadata": {},
   "source": [
    "d) Vergleichen Sie den Maximum-Likelihood und den Momentenschätzer für obige Stichprobe. Ist der Momentenschätzer hier sinnvoll?"
   ]
  }
 ],
 "metadata": {
  "kernelspec": {
   "display_name": "Python 3",
   "language": "python",
   "name": "python3"
  },
  "language_info": {
   "codemirror_mode": {
    "name": "ipython",
    "version": 3
   },
   "file_extension": ".py",
   "mimetype": "text/x-python",
   "name": "python",
   "nbconvert_exporter": "python",
   "pygments_lexer": "ipython3",
   "version": "3.6.8"
  }
 },
 "nbformat": 4,
 "nbformat_minor": 2
}
