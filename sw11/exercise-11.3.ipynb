{
 "cells": [
  {
   "cell_type": "markdown",
   "metadata": {},
   "source": [
    "Betrachten Sie den stochastischen Prozess, der gegeben ist durch\n",
    "\n",
    "$$X(t) = A · \\text{exp}(−t)$$"
   ]
  },
  {
   "cell_type": "markdown",
   "metadata": {},
   "source": [
    "wobei $A$ eine normalverteilte Zufallsvariable mit $A ∼ N (µ, σ^2 = 2^2)$ ist."
   ]
  },
  {
   "cell_type": "markdown",
   "metadata": {},
   "source": [
    "---\n",
    "a) Zum Zeitpunkt $t_0 = ln(2)$ wurde über sehr viele Realisierungen von $X(t)$ der\n",
    "empirische Scharmittelwert $\\bar{x} (t = t_0) = 2.5$ ermittelt. Schätzen Sie $µ$."
   ]
  },
  {
   "cell_type": "markdown",
   "metadata": {},
   "source": [
    "Wir wissen dass $E[X(t)] = 2.5$ und $\\text{exp}(-ln(2)) = 0.5$. Dies setzen wir in den stochastischen prozess ein:\n",
    "\n",
    "$$E[X(t)] = E[A] \\cdot E[\\text{exp}(-ln(2))] = 2.5 = 0.5E[A]$$\n",
    "\n",
    "Und erhalten $E[A] = 5 = \\mu$ "
   ]
  },
  {
   "cell_type": "markdown",
   "metadata": {},
   "source": [
    "---\n",
    "b) Wie gross ist die Wahrscheinlichkeit $P[X(t = t_0) > 0.5]$? Benützen Sie dazu die\n",
    "Schätzung von µ aus Teilaufgabe (a)."
   ]
  },
  {
   "cell_type": "markdown",
   "metadata": {},
   "source": [
    "$$P[A\\cdot \\text{exp}(-ln(2)) > 0.5] = P[A > 1] = 1 - P[A \\leq 1]$$"
   ]
  },
  {
   "cell_type": "code",
   "execution_count": 6,
   "metadata": {},
   "outputs": [
    {
     "data": {
      "text/plain": [
       "0.9772498680518208"
      ]
     },
     "execution_count": 6,
     "metadata": {},
     "output_type": "execute_result"
    }
   ],
   "source": [
    "import scipy.stats as st\n",
    "\n",
    "(1 - st.norm(5, 2).cdf(1))"
   ]
  },
  {
   "cell_type": "markdown",
   "metadata": {},
   "source": [
    "---\n",
    "c) Berechnen Sie den Erwartungswert $µ_X(t) = E[X(t)]$ zu einem beliebigen Zeitpunkt t."
   ]
  },
  {
   "cell_type": "markdown",
   "metadata": {},
   "source": [
    "$$E[X(t)] = 5 \\cdot \\text{exp}(-t)$$"
   ]
  },
  {
   "cell_type": "markdown",
   "metadata": {},
   "source": [
    "---\n",
    "d) Wie gross ist die Varianz $\\text{Var[X(t)]}$ zu einem beliebigen Zeitpunkt t?"
   ]
  },
  {
   "cell_type": "markdown",
   "metadata": {},
   "source": [
    " $$\\text{Var[A]} = 2^2 = 4$$\n",
    " \n",
    " $$\\text{Var}[X(t)] = \\text{Var}[A] \\cdot \\text{Var}[exp(-t)]$$"
   ]
  },
  {
   "cell_type": "markdown",
   "metadata": {},
   "source": [
    "---\n",
    "e) Bestimmen Sie die kumulative Verteilungsfunktion $F(x, t)$ des stochastischen\n",
    "Prozesses $X(t)$. Benützen Sie dazu die obige Schätzung von µ oder treffen Sie\n",
    "eine Annahme. Berechnen Sie den Wert von $F(x=10, t=ln(\\frac{1}{2}))$."
   ]
  },
  {
   "cell_type": "markdown",
   "metadata": {},
   "source": [
    "Wenn die verteilung standardnormalverteilt ist $N ~ N(0, 1^2)$, dann ist $P(N < x) = \\Phi(x)$\n",
    "\n",
    "Wir wissen dass\n",
    "\n",
    "$$F[x, t] = P(X(t) \\leq x) = P(A \\cdot exp(-t) \\leq x) = P(A \\leq x \\cdot exp(t))$$\n",
    "\n",
    "Nun ist aber $A$ nicht standardnormalverteilt, sondern $A ~ N(2.5, 4)$ Um $\\Phi$ zu benutzten muessen wir $A$ normieren.\n",
    "\n",
    "$$P(\\frac{A - 2.5}{2} \\leq \\frac{x \\cdot \\text{exp}(t) - 2.5}{2}) = \\Phi(\\frac{x \\cdot \\text{exp}(t) - 2.5}{2})$$\n"
   ]
  },
  {
   "cell_type": "markdown",
   "metadata": {},
   "source": [
    "---\n",
    "f) Wie lautet die Wahrscheinlichkeitsdichtefunktion $f(x, t)$ von $X(t)$? Berechnen\n",
    "Sie den Wert von $f(x = 10, t = ln(1/2))$."
   ]
  },
  {
   "cell_type": "markdown",
   "metadata": {},
   "source": [
    "Nun da wir wissen dass $F'_t(x) = f(t)$ koennen wir berechnen\n",
    "\n",
    "$$f_t(x) = \\frac{d}{dx}(\\Phi(\\frac{x \\cdot \\text{exp}(t) - 2.5}{2}))$$"
   ]
  },
  {
   "cell_type": "markdown",
   "metadata": {},
   "source": [
    "---\n",
    "g) Handelt es sich bei X(t) um einen stationären stochastischen Prozess?"
   ]
  },
  {
   "cell_type": "markdown",
   "metadata": {},
   "source": [
    "Nein, der prozess is Zeitabhaengig"
   ]
  }
 ],
 "metadata": {
  "kernelspec": {
   "display_name": "Python 3",
   "language": "python",
   "name": "python3"
  },
  "language_info": {
   "codemirror_mode": {
    "name": "ipython",
    "version": 3
   },
   "file_extension": ".py",
   "mimetype": "text/x-python",
   "name": "python",
   "nbconvert_exporter": "python",
   "pygments_lexer": "ipython3",
   "version": "3.6.9"
  }
 },
 "nbformat": 4,
 "nbformat_minor": 2
}
