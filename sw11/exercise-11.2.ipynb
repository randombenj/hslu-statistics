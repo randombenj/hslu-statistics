{
 "cells": [
  {
   "cell_type": "markdown",
   "metadata": {},
   "source": [
    "Ein stochastischer Prozess sei definiert durch\n",
    "\n",
    "$$X(t) = T + (1 − t)$$\n",
    "\n",
    "wobei $T$ eine über dem Intervall $[0, 1]$ uniform verteilte Zufallsvariable ist."
   ]
  },
  {
   "cell_type": "markdown",
   "metadata": {},
   "source": [
    "---\n",
    "a) Bestimmen Sie die Kumulative Verteilungsfunktion von $X(t)$."
   ]
  },
  {
   "cell_type": "markdown",
   "metadata": {},
   "source": [
    "Wir erhalten $P[X(t) \\leq x] = P[T \\leq x - (1 - t)]$"
   ]
  },
  {
   "cell_type": "markdown",
   "metadata": {},
   "source": [
    "---\n",
    "b) Bestimmen Sie die Wahrscheinlichkeitsdichtefunktion von X(t)"
   ]
  },
  {
   "cell_type": "markdown",
   "metadata": {},
   "source": [
    " $$\\begin{cases}\n",
    "    \\frac{1}{b - a} & x \\in [a, b] \\\\\n",
    "    1 & \\text{otherwise}\n",
    " \\end{cases}$$\n",
    " \n",
    " Nun setzen wir $P[T \\leq x - (1 - t)] = x$ und $a = 0, b = 1$ ein.\n",
    " \n",
    " $$\\begin{cases}\n",
    "    1 & x - (1 - t) \\in [0, 1] \\\\\n",
    "    1 & \\text{otherwise}\n",
    " \\end{cases}$$\n",
    " "
   ]
  },
  {
   "cell_type": "markdown",
   "metadata": {},
   "source": [
    "---\n",
    "c) Bestimmen Sie $µ_X(t) = E[X(t)]$"
   ]
  },
  {
   "cell_type": "markdown",
   "metadata": {},
   "source": [
    "$$E[X(t)] = E[T + (1 - t)] = E[T] + E[1 - t] = \\frac{b - a}{2} + (1 - t) = 1.5 - t$$"
   ]
  },
  {
   "cell_type": "markdown",
   "metadata": {},
   "source": [
    "---\n",
    "d) Handelt es sich bei $X(t)$ um einen stationären stochastischen Prozess?"
   ]
  },
  {
   "cell_type": "markdown",
   "metadata": {},
   "source": [
    "Nein, der stochastische prozess $X(t)$ haengt von der Zeit $t$ ab, somit ist er kein stationaerer stochastischer Prozess."
   ]
  }
 ],
 "metadata": {
  "kernelspec": {
   "display_name": "Python 3",
   "language": "python",
   "name": "python3"
  },
  "language_info": {
   "codemirror_mode": {
    "name": "ipython",
    "version": 3
   },
   "file_extension": ".py",
   "mimetype": "text/x-python",
   "name": "python",
   "nbconvert_exporter": "python",
   "pygments_lexer": "ipython3",
   "version": "3.6.9"
  }
 },
 "nbformat": 4,
 "nbformat_minor": 2
}
