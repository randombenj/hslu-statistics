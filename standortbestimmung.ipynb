{
 "cells": [
  {
   "cell_type": "markdown",
   "metadata": {},
   "source": [
    "**aufgabe 1:**\n",
    "----\n",
    "Die Grundlagen der Allgemeinen Relativitätstheorie (ART) hatte Albert Einstein am 25. November 1915 der Preussischen Akademie der Wissenschaften vorgetragen.\n",
    "\n",
    "Eine Vorhersage der ART besagt, dass Lichtstrahlen von Sternen, die sich hinter der Sonne befinden und gerade am Sonnenrand vorbei auf die Erde treffen, eine Winkelablenkung aufgrund der Raumkrümmung erfahren. Aus dieser Winkelablenkung lässt sich dann der Raumkrümmungsparameter γ bestimmen. In der Newton’schen Physik, wo der Raum nicht gekrümmt ist, hat γ den Wert 0. In der ART hat γ den Wert 1. Im Jahre 1975 wurde an 9 Tagen im National Radio Astronomy Observatory (NRAO) in Green Bank aus der Lichtablenkung der Wert von γ ermittelt. Die Werte dieser Messungen finden Sie in der Datei `gamma.txt` auf Ilias.\n",
    "\n",
    "Geben Sie den relativen Fehler für den Wert von γ der 1975 erhobenen Messreihe an. Beachten Sie die Anzahl signifikanter Stellen und lassen Sie bei der Eingabe das Prozentzeichen weg."
   ]
  },
  {
   "cell_type": "code",
   "execution_count": 15,
   "metadata": {},
   "outputs": [],
   "source": [
    "import pandas as pd\n",
    "\n",
    "data = pd.read_csv(\"gamma.txt\", sep=\",\", index_col=0)"
   ]
  },
  {
   "cell_type": "code",
   "execution_count": 16,
   "metadata": {},
   "outputs": [
    {
     "data": {
      "text/html": [
       "<div>\n",
       "<style scoped>\n",
       "    .dataframe tbody tr th:only-of-type {\n",
       "        vertical-align: middle;\n",
       "    }\n",
       "\n",
       "    .dataframe tbody tr th {\n",
       "        vertical-align: top;\n",
       "    }\n",
       "\n",
       "    .dataframe thead th {\n",
       "        text-align: right;\n",
       "    }\n",
       "</style>\n",
       "<table border=\"1\" class=\"dataframe\">\n",
       "  <thead>\n",
       "    <tr style=\"text-align: right;\">\n",
       "      <th></th>\n",
       "      <th>\"gamma\"</th>\n",
       "    </tr>\n",
       "    <tr>\n",
       "      <th>Day</th>\n",
       "      <th></th>\n",
       "    </tr>\n",
       "  </thead>\n",
       "  <tbody>\n",
       "    <tr>\n",
       "      <td>April 5</td>\n",
       "      <td>1.000</td>\n",
       "    </tr>\n",
       "    <tr>\n",
       "      <td>April 6</td>\n",
       "      <td>0.960</td>\n",
       "    </tr>\n",
       "    <tr>\n",
       "      <td>April 7</td>\n",
       "      <td>1.020</td>\n",
       "    </tr>\n",
       "    <tr>\n",
       "      <td>April 8</td>\n",
       "      <td>1.000</td>\n",
       "    </tr>\n",
       "    <tr>\n",
       "      <td>April 9</td>\n",
       "      <td>1.002</td>\n",
       "    </tr>\n",
       "  </tbody>\n",
       "</table>\n",
       "</div>"
      ],
      "text/plain": [
       "          \"gamma\"\n",
       "Day              \n",
       "April 5     1.000\n",
       "April 6     0.960\n",
       "April 7     1.020\n",
       "April 8     1.000\n",
       "April 9     1.002"
      ]
     },
     "execution_count": 16,
     "metadata": {},
     "output_type": "execute_result"
    }
   ],
   "source": [
    "data.head()"
   ]
  },
  {
   "cell_type": "code",
   "execution_count": 20,
   "metadata": {},
   "outputs": [],
   "source": [
    "x, s_x = data.mean(), data.std()"
   ]
  },
  {
   "cell_type": "markdown",
   "metadata": {},
   "source": [
    "Relativer Fehler gemaess deffinition:\n",
    "\n",
    "$ \\bar{x_n} +- \\frac{s_x}{\\sqrt{n}} $"
   ]
  },
  {
   "cell_type": "code",
   "execution_count": 25,
   "metadata": {},
   "outputs": [
    {
     "data": {
      "text/plain": [
       " \"gamma\"    0.009869\n",
       "dtype: float64"
      ]
     },
     "execution_count": 25,
     "metadata": {},
     "output_type": "execute_result"
    }
   ],
   "source": [
    "from math import sqrt\n",
    "\n",
    "(data.std()/sqrt(data.size))/data.mean()"
   ]
  },
  {
   "cell_type": "markdown",
   "metadata": {},
   "source": [
    "**aufgabe 3b:**\n",
    "---\n",
    "\n",
    "Nach einer Schamanen-Zeremonie mit Ayahuasca sind Sie in einem Anflug von Wahnsinn der festen Ueberzeugung, dass Sie die Wiedergeburt von Isaac Newton sind. Als erstes wollen Sie die ART widerlegen, und zwar zugunsten Ihrer Theorie mit γ=0. Wie lautet die Nullhypothese, wie die Alternativhypothese in Bezug auf den Wert des Raumkrümmungsparameters γ?\n",
    "\n",
    "Führen Sie einen statistischen t-Test mit Hilfe des 1975 erhobenen Datensatzes durch. Geben Sie den p-Wert des Tests an, und zwar mit 4 Nachkommastellen."
   ]
  },
  {
   "cell_type": "markdown",
   "metadata": {},
   "source": [
    "Nullhypothese: $H_0: \\mu = γ = 1$\n",
    "\n",
    "Alternativhypothese: $H_a: \\mu < 1$"
   ]
  },
  {
   "cell_type": "code",
   "execution_count": 48,
   "metadata": {},
   "outputs": [
    {
     "data": {
      "text/plain": [
       "array([0.15321671])"
      ]
     },
     "execution_count": 48,
     "metadata": {},
     "output_type": "execute_result"
    }
   ],
   "source": [
    "import scipy.stats as st\n",
    "\n",
    "st.ttest_1samp(data, popmean=1).pvalue / 2\n",
    "\n",
    "# oder\n",
    "\n",
    "st.t.cdf(x=data.mean(), loc=1, scale=data.std()/sqrt(data.size), df=data.size-1)"
   ]
  },
  {
   "cell_type": "markdown",
   "metadata": {},
   "source": [
    "aufgabe 3c:\n",
    "---\n",
    "\n",
    "Geben Sie aufgrund der in der Datei `gamma.txt` enthaltenen Messwerte die obere Intervallgrenze des einseitigen 98%-Vertrauensintervalls für den wahren Wert des Parameters γ an. (Mit 5 Nachkommastellen)"
   ]
  },
  {
   "cell_type": "code",
   "execution_count": 41,
   "metadata": {},
   "outputs": [
    {
     "data": {
      "text/plain": [
       "(array([0.96661915]), array([1.01204751]))"
      ]
     },
     "execution_count": 41,
     "metadata": {},
     "output_type": "execute_result"
    }
   ],
   "source": [
    "st.norm.interval(alpha=0.98, loc=data.mean(),\n",
    "scale=data.std()/np.sqrt(data.size))"
   ]
  },
  {
   "cell_type": "code",
   "execution_count": 51,
   "metadata": {},
   "outputs": [
    {
     "data": {
      "text/plain": [
       "(array([0.92520941]), array([1.05345726]))"
      ]
     },
     "execution_count": 51,
     "metadata": {},
     "output_type": "execute_result"
    }
   ],
   "source": [
    "st.t.interval(alpha=0.94, df=data.size-1, loc=data.mean(), scale=data.std())"
   ]
  },
  {
   "cell_type": "markdown",
   "metadata": {},
   "source": [
    "quizfrage 06:\n",
    "---\n",
    "\n",
    "In dem auf Ilias abgelegten zip File ist die Datei `Schokolade_Nobelpreis` abgelegt. Diese enthält für 22 Länder die Anzahl Nobelpreise pro 10 Millionen Einwohnern und der Schokoladenkonsum (in Kilogramm) pro Kopf enthalten. Der Korrelationskoeffizient beträgt"
   ]
  },
  {
   "cell_type": "code",
   "execution_count": 42,
   "metadata": {},
   "outputs": [],
   "source": [
    "schoko = pd.read_csv(\"Schokolade_Nobelpreis.txt\", delim_whitespace=True)"
   ]
  },
  {
   "cell_type": "code",
   "execution_count": 43,
   "metadata": {},
   "outputs": [
    {
     "data": {
      "text/html": [
       "<div>\n",
       "<style scoped>\n",
       "    .dataframe tbody tr th:only-of-type {\n",
       "        vertical-align: middle;\n",
       "    }\n",
       "\n",
       "    .dataframe tbody tr th {\n",
       "        vertical-align: top;\n",
       "    }\n",
       "\n",
       "    .dataframe thead th {\n",
       "        text-align: right;\n",
       "    }\n",
       "</style>\n",
       "<table border=\"1\" class=\"dataframe\">\n",
       "  <thead>\n",
       "    <tr style=\"text-align: right;\">\n",
       "      <th></th>\n",
       "      <th>Country</th>\n",
       "      <th>Nobel Laureates per 10 Million</th>\n",
       "      <th>Chocolate consumption (kg) per capita</th>\n",
       "    </tr>\n",
       "  </thead>\n",
       "  <tbody>\n",
       "    <tr>\n",
       "      <td>0</td>\n",
       "      <td>Sweden</td>\n",
       "      <td>30.677</td>\n",
       "      <td>4.4</td>\n",
       "    </tr>\n",
       "    <tr>\n",
       "      <td>1</td>\n",
       "      <td>Switzerland</td>\n",
       "      <td>30.125</td>\n",
       "      <td>10.2</td>\n",
       "    </tr>\n",
       "    <tr>\n",
       "      <td>2</td>\n",
       "      <td>Norway</td>\n",
       "      <td>24.947</td>\n",
       "      <td>9.2</td>\n",
       "    </tr>\n",
       "    <tr>\n",
       "      <td>3</td>\n",
       "      <td>Denmark</td>\n",
       "      <td>24.695</td>\n",
       "      <td>7.9</td>\n",
       "    </tr>\n",
       "    <tr>\n",
       "      <td>4</td>\n",
       "      <td>Austria</td>\n",
       "      <td>24.577</td>\n",
       "      <td>8.5</td>\n",
       "    </tr>\n",
       "  </tbody>\n",
       "</table>\n",
       "</div>"
      ],
      "text/plain": [
       "       Country  Nobel Laureates per 10 Million  \\\n",
       "0       Sweden                          30.677   \n",
       "1  Switzerland                          30.125   \n",
       "2       Norway                          24.947   \n",
       "3      Denmark                          24.695   \n",
       "4      Austria                          24.577   \n",
       "\n",
       "   Chocolate consumption (kg) per capita  \n",
       "0                                    4.4  \n",
       "1                                   10.2  \n",
       "2                                    9.2  \n",
       "3                                    7.9  \n",
       "4                                    8.5  "
      ]
     },
     "execution_count": 43,
     "metadata": {},
     "output_type": "execute_result"
    }
   ],
   "source": [
    "schoko.head()"
   ]
  },
  {
   "cell_type": "code",
   "execution_count": 45,
   "metadata": {},
   "outputs": [
    {
     "data": {
      "text/html": [
       "<div>\n",
       "<style scoped>\n",
       "    .dataframe tbody tr th:only-of-type {\n",
       "        vertical-align: middle;\n",
       "    }\n",
       "\n",
       "    .dataframe tbody tr th {\n",
       "        vertical-align: top;\n",
       "    }\n",
       "\n",
       "    .dataframe thead th {\n",
       "        text-align: right;\n",
       "    }\n",
       "</style>\n",
       "<table border=\"1\" class=\"dataframe\">\n",
       "  <thead>\n",
       "    <tr style=\"text-align: right;\">\n",
       "      <th></th>\n",
       "      <th>Nobel Laureates per 10 Million</th>\n",
       "      <th>Chocolate consumption (kg) per capita</th>\n",
       "    </tr>\n",
       "  </thead>\n",
       "  <tbody>\n",
       "    <tr>\n",
       "      <td>count</td>\n",
       "      <td>22.000000</td>\n",
       "      <td>22.000000</td>\n",
       "    </tr>\n",
       "    <tr>\n",
       "      <td>mean</td>\n",
       "      <td>11.565864</td>\n",
       "      <td>5.395455</td>\n",
       "    </tr>\n",
       "    <tr>\n",
       "      <td>std</td>\n",
       "      <td>10.079406</td>\n",
       "      <td>3.098306</td>\n",
       "    </tr>\n",
       "    <tr>\n",
       "      <td>min</td>\n",
       "      <td>0.048000</td>\n",
       "      <td>0.700000</td>\n",
       "    </tr>\n",
       "    <tr>\n",
       "      <td>25%</td>\n",
       "      <td>2.285250</td>\n",
       "      <td>2.750000</td>\n",
       "    </tr>\n",
       "    <tr>\n",
       "      <td>50%</td>\n",
       "      <td>9.161500</td>\n",
       "      <td>4.850000</td>\n",
       "    </tr>\n",
       "    <tr>\n",
       "      <td>75%</td>\n",
       "      <td>18.751250</td>\n",
       "      <td>8.725000</td>\n",
       "    </tr>\n",
       "    <tr>\n",
       "      <td>max</td>\n",
       "      <td>30.677000</td>\n",
       "      <td>10.200000</td>\n",
       "    </tr>\n",
       "  </tbody>\n",
       "</table>\n",
       "</div>"
      ],
      "text/plain": [
       "       Nobel Laureates per 10 Million  Chocolate consumption (kg) per capita\n",
       "count                       22.000000                              22.000000\n",
       "mean                        11.565864                               5.395455\n",
       "std                         10.079406                               3.098306\n",
       "min                          0.048000                               0.700000\n",
       "25%                          2.285250                               2.750000\n",
       "50%                          9.161500                               4.850000\n",
       "75%                         18.751250                               8.725000\n",
       "max                         30.677000                              10.200000"
      ]
     },
     "execution_count": 45,
     "metadata": {},
     "output_type": "execute_result"
    }
   ],
   "source": [
    "schoko.describe()"
   ]
  },
  {
   "cell_type": "code",
   "execution_count": 46,
   "metadata": {},
   "outputs": [
    {
     "data": {
      "text/html": [
       "<div>\n",
       "<style scoped>\n",
       "    .dataframe tbody tr th:only-of-type {\n",
       "        vertical-align: middle;\n",
       "    }\n",
       "\n",
       "    .dataframe tbody tr th {\n",
       "        vertical-align: top;\n",
       "    }\n",
       "\n",
       "    .dataframe thead th {\n",
       "        text-align: right;\n",
       "    }\n",
       "</style>\n",
       "<table border=\"1\" class=\"dataframe\">\n",
       "  <thead>\n",
       "    <tr style=\"text-align: right;\">\n",
       "      <th></th>\n",
       "      <th>Nobel Laureates per 10 Million</th>\n",
       "      <th>Chocolate consumption (kg) per capita</th>\n",
       "    </tr>\n",
       "  </thead>\n",
       "  <tbody>\n",
       "    <tr>\n",
       "      <td>Nobel Laureates per 10 Million</td>\n",
       "      <td>1.00000</td>\n",
       "      <td>0.75859</td>\n",
       "    </tr>\n",
       "    <tr>\n",
       "      <td>Chocolate consumption (kg) per capita</td>\n",
       "      <td>0.75859</td>\n",
       "      <td>1.00000</td>\n",
       "    </tr>\n",
       "  </tbody>\n",
       "</table>\n",
       "</div>"
      ],
      "text/plain": [
       "                                       Nobel Laureates per 10 Million  \\\n",
       "Nobel Laureates per 10 Million                                1.00000   \n",
       "Chocolate consumption (kg) per capita                         0.75859   \n",
       "\n",
       "                                       Chocolate consumption (kg) per capita  \n",
       "Nobel Laureates per 10 Million                                       0.75859  \n",
       "Chocolate consumption (kg) per capita                                1.00000  "
      ]
     },
     "execution_count": 46,
     "metadata": {},
     "output_type": "execute_result"
    }
   ],
   "source": [
    "schoko.corr()"
   ]
  },
  {
   "cell_type": "code",
   "execution_count": null,
   "metadata": {},
   "outputs": [],
   "source": []
  }
 ],
 "metadata": {
  "kernelspec": {
   "display_name": "Python 3",
   "language": "python",
   "name": "python3"
  },
  "language_info": {
   "codemirror_mode": {
    "name": "ipython",
    "version": 3
   },
   "file_extension": ".py",
   "mimetype": "text/x-python",
   "name": "python",
   "nbconvert_exporter": "python",
   "pygments_lexer": "ipython3",
   "version": "3.6.9"
  }
 },
 "nbformat": 4,
 "nbformat_minor": 2
}
