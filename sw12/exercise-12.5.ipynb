{
 "cells": [
  {
   "cell_type": "markdown",
   "metadata": {},
   "source": [
    "In dieser Aufgabe betrachten wir einen simulierten diskreten Prozess $\\{X_1, X_2, ... \\}$,\n",
    "der durch folgende Konstruktionsregel gegeben ist\n",
    "\n",
    "- Setzen Sie $X_1 = −1$\n",
    "- Für jedes $k ≥ 1$ werde eine faire Münze geworfen, wobei man für Kopf $D_k = 1$ und für Zahl $D_k = −1$ setzt. Definieren Sie $$X_k = a + D_k + bD_{k−1}$$ für bestimmte Zahlen $a, b ∈ R$."
   ]
  },
  {
   "cell_type": "markdown",
   "metadata": {},
   "source": [
    "---\n",
    "a) Generieren Sie eine Zeitreihe $\\{x_1, x_2, . . . , x_{200}\\}$ basierend auf diesem Prozess,\n",
    "und stellen Sie die dadurch generierte Zeitreihe mit den Parameterwerten $a = 2$\n",
    "und $b = −7$ graphisch dar.\n",
    "\n",
    "**Hinweis:** Der Münzwurf kann durch eine binomialverteilte Zufallsvariable mit\n",
    "n = 1 and p = 0.5 modelliert werden (also einer Bernoulli-verteilten Zufallsvariablen)."
   ]
  },
  {
   "cell_type": "code",
   "execution_count": 17,
   "metadata": {},
   "outputs": [
    {
     "data": {
      "text/plain": [
       "array([-1. ,  1.7,  1.7,  1.7,  3.7,  0.3,  1.7,  1.7,  3.7,  2.3,  0.3,\n",
       "        3.7,  2.3,  2.3,  0.3,  3.7,  2.3,  0.3,  1.7,  3.7,  0.3,  3.7,\n",
       "        2.3,  2.3,  2.3,  0.3,  1.7,  3.7,  2.3,  0.3,  3.7,  2.3,  2.3,\n",
       "        2.3,  0.3,  3.7,  2.3,  0.3,  1.7,  3.7,  2.3,  0.3,  3.7,  0.3,\n",
       "        3.7,  2.3,  2.3,  2.3,  0.3,  1.7,  3.7,  2.3,  0.3,  3.7,  0.3,\n",
       "        1.7,  3.7,  2.3,  0.3,  3.7,  2.3,  0.3,  3.7,  2.3,  2.3,  0.3,\n",
       "        3.7,  0.3,  3.7,  0.3,  3.7,  0.3,  1.7,  3.7,  2.3,  2.3,  0.3,\n",
       "        3.7,  0.3,  1.7,  3.7,  2.3,  2.3,  2.3,  0.3,  1.7,  3.7,  0.3,\n",
       "        3.7,  2.3,  2.3,  2.3,  2.3,  0.3,  3.7,  2.3,  0.3,  1.7,  3.7,\n",
       "        0.3,  3.7,  0.3,  3.7,  2.3,  2.3,  0.3,  1.7,  1.7,  1.7,  1.7,\n",
       "        3.7,  2.3,  0.3,  1.7,  3.7,  0.3,  3.7,  0.3,  1.7,  3.7,  2.3,\n",
       "        0.3,  3.7,  2.3,  0.3,  3.7,  0.3,  3.7,  2.3,  0.3,  1.7,  1.7,\n",
       "        1.7,  1.7,  3.7,  2.3,  0.3,  1.7,  3.7,  2.3,  2.3,  0.3,  3.7,\n",
       "        0.3,  1.7,  3.7,  2.3,  0.3,  1.7,  1.7,  3.7,  0.3,  3.7,  0.3,\n",
       "        1.7,  1.7,  1.7,  3.7,  2.3,  2.3,  2.3,  2.3,  2.3,  2.3,  0.3,\n",
       "        1.7,  1.7,  1.7,  1.7,  3.7,  2.3,  0.3,  1.7,  3.7,  0.3,  3.7,\n",
       "        0.3,  1.7,  3.7,  2.3,  0.3,  1.7,  3.7,  0.3,  3.7,  2.3,  2.3,\n",
       "        2.3,  0.3,  3.7,  2.3,  2.3,  0.3,  1.7,  3.7,  0.3,  1.7,  1.7,\n",
       "        1.7,  3.7])"
      ]
     },
     "execution_count": 17,
     "metadata": {},
     "output_type": "execute_result"
    }
   ],
   "source": [
    "import numpy as np\n",
    "import matplotlib.pyplot as plt\n",
    "from statsmodels.graphics.tsaplots import plot_acf\n",
    "from statsmodels.tsa.stattools import acf\n",
    "\n",
    "# Create the process D_k\n",
    "D = 2 * (np.random.binomial(size=200, n=1, p=0.5) - 0.5)\n",
    "# Create the process X_k\n",
    "X = np.zeros(200)\n",
    "\n",
    "X[0] = -1\n",
    "for k in range(1,200):\n",
    "    X[k] = 2 + D[k] - 0.7*D[k-1]\n",
    "X"
   ]
  },
  {
   "cell_type": "markdown",
   "metadata": {},
   "source": [
    "---\n",
    "b) Berechnen Sie aufgrund der generierten Zeitreihe die empirische Autokorrelationsfunktion $\\hat{ρ}(k)$ `acf()`. Erstellen Sie ein Korrelogramm bis zu lag 50."
   ]
  },
  {
   "cell_type": "code",
   "execution_count": 18,
   "metadata": {},
   "outputs": [
    {
     "data": {
      "text/plain": [
       "array([ 1.        , -0.42717589, -0.09343515,  0.074106  ,  0.0111245 ,\n",
       "       -0.0679476 ,  0.06434559, -0.01817388, -0.04320891,  0.10653842,\n",
       "       -0.17994412,  0.04090428,  0.1781454 , -0.12115101, -0.0421213 ,\n",
       "        0.05770557, -0.06596416,  0.07389016,  0.04835717, -0.14466601,\n",
       "        0.12743784, -0.01505685, -0.12324845,  0.04716915,  0.14211152,\n",
       "       -0.0591268 , -0.08383228,  0.01920503,  0.02626524, -0.00946841,\n",
       "        0.03250576, -0.03902043,  0.04233449, -0.05963763, -0.00441792,\n",
       "        0.01374627,  0.07423108, -0.09451617,  0.06570078, -0.05225695,\n",
       "       -0.0013413 ,  0.0266867 ,  0.04975726, -0.10575682,  0.08456985,\n",
       "       -0.03067255, -0.08481471,  0.10350392,  0.05349455, -0.12675346,\n",
       "        0.05735373])"
      ]
     },
     "execution_count": 18,
     "metadata": {},
     "output_type": "execute_result"
    }
   ],
   "source": [
    "acf(X, nlags=50, fft=False)"
   ]
  },
  {
   "cell_type": "code",
   "execution_count": 19,
   "metadata": {},
   "outputs": [
    {
     "data": {
      "image/png": "[encoded data removed]",
      "text/plain": [
       "<Figure size 432x288 with 1 Axes>"
      ]
     },
     "execution_count": 19,
     "metadata": {},
     "output_type": "execute_result"
    },
    {
     "data": {
      "image/png": "[encoded data removed]",
      "text/plain": [
       "<Figure size 432x288 with 1 Axes>"
      ]
     },
     "metadata": {
      "needs_background": "light"
     },
     "output_type": "display_data"
    }
   ],
   "source": [
    "plot_acf(X, lags=50)"
   ]
  },
  {
   "cell_type": "markdown",
   "metadata": {},
   "source": [
    "---\n",
    "c) Berechnen Sie den theoretischen Mittelwert $µ(k)$ und die Autokorrelationsfunktion $ρ(k)$ des durch obige Regel definierten Prozesses (d.h. für allgemeine a und\n",
    "b). Vergleichen Sie $\\hat{ρ}(1)$ und $ρ(1)$ für $a = 2$ und $b = −0.7$"
   ]
  },
  {
   "cell_type": "markdown",
   "metadata": {},
   "source": [
    "$$\\mu(k) = a$$"
   ]
  },
  {
   "cell_type": "code",
   "execution_count": 20,
   "metadata": {},
   "outputs": [
    {
     "data": {
      "text/plain": [
       "1.7"
      ]
     },
     "execution_count": 20,
     "metadata": {},
     "output_type": "execute_result"
    }
   ],
   "source": [
    "k = 1\n",
    "\n",
    "2 + D[k] - 0.7*D[k-1]"
   ]
  },
  {
   "cell_type": "markdown",
   "metadata": {},
   "source": [
    "---\n",
    "d) Ist der Prozess $X_k$ schwach stationär?"
   ]
  },
  {
   "cell_type": "markdown",
   "metadata": {},
   "source": [
    "Ja, die autokorrelationsfolge haengt nur vom lag des koeffizientes ab (nur von a), der mittelwert ist konstant."
   ]
  }
 ],
 "metadata": {
  "kernelspec": {
   "display_name": "Python 3",
   "language": "python",
   "name": "python3"
  },
  "language_info": {
   "codemirror_mode": {
    "name": "ipython",
    "version": 3
   },
   "file_extension": ".py",
   "mimetype": "text/x-python",
   "name": "python",
   "nbconvert_exporter": "python",
   "pygments_lexer": "ipython3",
   "version": "3.6.9"
  }
 },
 "nbformat": 4,
 "nbformat_minor": 2
}
