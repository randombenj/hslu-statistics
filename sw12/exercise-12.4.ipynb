{
 "cells": [
  {
   "cell_type": "markdown",
   "metadata": {},
   "source": [
    "Wir betrachten den folgenden moving average Prozess\n",
    "\n",
    "$$X_i = W_{i−1} + 2W_i + W_{i+1}$$\n",
    "\n",
    "wobei $W_i$ unabhängige Zufallsvariablen mit Erwartungswert $0$ und Varianz $σ^2$ seien."
   ]
  },
  {
   "cell_type": "markdown",
   "metadata": {},
   "source": [
    "---\n",
    "a) Berechnen Sie die Mittelwertsfolge dieses Prozesses."
   ]
  },
  {
   "cell_type": "markdown",
   "metadata": {},
   "source": [
    "$$\\frac{1}{4}(W_{i-1} + 2W_i + W_{i+1})$$"
   ]
  },
  {
   "cell_type": "markdown",
   "metadata": {},
   "source": [
    "Da die erwartungswerte 0 sind, ist auch die Summe aller erwartungswerte 0."
   ]
  },
  {
   "cell_type": "markdown",
   "metadata": {},
   "source": [
    "---\n",
    "b) Berechnen Sie die Autokovarianz und Autkorrelationsfolge dieses Prozesses."
   ]
  },
  {
   "cell_type": "markdown",
   "metadata": {},
   "source": [
    "$$γ(i, j) = E[((W_{i-1} + 2W_i + W_{i+1}) - \\mu(i))((W_{j-1} + 2W_j + W_{j+1}) - \\mu(j))]$$"
   ]
  },
  {
   "cell_type": "markdown",
   "metadata": {},
   "source": [
    "---\n",
    "c) Zeichnen Sie die Autokorrelationsfunktion $ρ(i, j)$ als eine Funktion vom lag $h =\n",
    "i − j$ auf."
   ]
  },
  {
   "cell_type": "markdown",
   "metadata": {},
   "source": [
    "**ok, cool ...**"
   ]
  },
  {
   "cell_type": "code",
   "execution_count": 3,
   "metadata": {},
   "outputs": [
    {
     "data": {
      "image/png": "[encoded data removed]",
      "text/plain": [
       "<Figure size 432x288 with 1 Axes>"
      ]
     },
     "metadata": {
      "needs_background": "light"
     },
     "output_type": "display_data"
    }
   ],
   "source": [
    "import numpy as np\n",
    "import matplotlib.pyplot as plt\n",
    "\n",
    "h = [(0, 1, 2, 3, 4, 5, 6)]\n",
    "rho = [(1, 2/3, 1/6, 0, 0, 0, 0)]\n",
    "\n",
    "plt.plot(h, rho, 'ro')\n",
    "plt.xlabel(\"lag\")\n",
    "plt.ylabel(\"rho\")\n",
    "plt.show()"
   ]
  }
 ],
 "metadata": {
  "kernelspec": {
   "display_name": "Python 3",
   "language": "python",
   "name": "python3"
  },
  "language_info": {
   "codemirror_mode": {
    "name": "ipython",
    "version": 3
   },
   "file_extension": ".py",
   "mimetype": "text/x-python",
   "name": "python",
   "nbconvert_exporter": "python",
   "pygments_lexer": "ipython3",
   "version": "3.6.9"
  }
 },
 "nbformat": 4,
 "nbformat_minor": 2
}
