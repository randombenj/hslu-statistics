{
 "cells": [
  {
   "cell_type": "markdown",
   "metadata": {},
   "source": [
    "---\n",
    "a) Ein stochastischer Prozess sei definiert durch\n",
    "\n",
    "$$X_i = T + (1 − i)$$\n",
    "\n",
    "wobei $T$ eine über dem Intervall $[0, 1]$ uniform verteilte Zufallsvariable ist. Bestimmen Sie die Autokorrelationsfunktion $γ(i, j) = E[(X_i − µ(i))(X_j − µ(j))]$.\n",
    "Handelt es sich bei $X_i$ um einen stationären stochastischen Prozess?"
   ]
  },
  {
   "cell_type": "markdown",
   "metadata": {},
   "source": [
    "Nein, denn der Prozess ist von der Zeit $i$ abhaengig."
   ]
  },
  {
   "cell_type": "markdown",
   "metadata": {},
   "source": [
    "---\n",
    "b) Wir betrachten den zeit-diskreten Zufallsprozess\n",
    "\n",
    "$$X_n = A^n$$\n",
    "\n",
    "wobei A eine auf dem Intervall $[0, 1]$ gleichmässig verteilte Zufallsvariable ist\n",
    "und $n ∈ N_0^+$. Handelt es sich bei $X_n$ um einen stationären Zufallsprozess?\n",
    "Berechnen Sie dazu $µ(n) = E[X_n]$ und $γ(n, m) = E[(X_n − µ(n))(X_m − µ(m))]$."
   ]
  },
  {
   "cell_type": "markdown",
   "metadata": {},
   "source": [
    "$X_n$ ist kein stationaerer Zufallsprozess, da er vom Zeitpunkt n abhaengig ist.\n",
    "\n",
    "Der erwartungswert von $E[X_n] = \\int_0^1 a^n da = \\frac{1}{n + 1} = \\mu(n)$\n",
    "\n",
    "$$γ(n, m) = E[(X_n − µ(n))(X_m − µ(m))] = E[(X_n − \\frac{1}{n + 1})(X_m − \\frac{1}{m + 1})] = $$"
   ]
  }
 ],
 "metadata": {
  "kernelspec": {
   "display_name": "Python 3",
   "language": "python",
   "name": "python3"
  },
  "language_info": {
   "codemirror_mode": {
    "name": "ipython",
    "version": 3
   },
   "file_extension": ".py",
   "mimetype": "text/x-python",
   "name": "python",
   "nbconvert_exporter": "python",
   "pygments_lexer": "ipython3",
   "version": "3.6.9"
  }
 },
 "nbformat": 4,
 "nbformat_minor": 2
}
