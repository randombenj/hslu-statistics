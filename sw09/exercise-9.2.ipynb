{
 "cells": [
  {
   "cell_type": "markdown",
   "metadata": {},
   "source": [
    "Angenommen wir untersuchen die Auswirkung der Ernährung auf die Körpergrösse\n",
    "von Kindern und haben zwei Diäten zum Vergleich: Diät A (eine ausgewogene Ernährung\n",
    "mit viel Brokkoli) und Diät B (eine Diät reich an Kartoffelchips, Süssigkeiten und\n",
    "Riegeln). Wir möchten die Diät finden, die Kindern hilft, am schnellsten (in die Höhe)\n",
    "zu wachsen.\n",
    "\n",
    "Wir haben uns entschieden, 20 Kinder in einem Experiment zu untersuchen. Wir\n",
    "erwägen die folgenden Methoden zur Gruppenbildung der Kinder für die beiden\n",
    "Diäten:\n",
    "\n",
    "- 1.) Wir lassen die Kinder selber wählen.\n",
    "- 2.) Wir nehmen die erstangekommenen 10 Kinder für Diät A, die übrigen 10 Kinder für Diät B. 2\n",
    "- 3.) Wir alternieren Diät A, B, A, B etc. entlang der alphabetischen Reihenfolge der Namen der Kinder.\n",
    "- 4.) Wir werfen eine Münze für jedes Kind in der Studie: Kopf entspricht A, Zahl entspricht B.\n",
    "- 5.) Wir nehmen 20 Kinder und wählen 10 zufällig für A, den Rest für B.\n",
    "\n",
    "Beschreiben Sie die Vor- und Nachteile der Verwendung von jeder dieser Methoden\n",
    "in Bezug auf Gruppengrösse, Confounding und Blindheit der Forscher"
   ]
  },
  {
   "cell_type": "markdown",
   "metadata": {},
   "source": [
    "- 1.) Keine ausgeglichene Gruppengroesse, Kinder wollen immer suesses (cofoundign as F***)\n",
    "- 2.) Gute gruppengroesse, aber cofounding (puenktlichkeit beeinflusst verhalten)\n",
    "- 3.) Gute gruppengroesse, ist nicht doppelblind, die auswerter kennen die reihenfolge der kinder\n",
    "- 4.) Kann unterschiedliche gruppengroesse geben, truly random\n",
    "- 5.) Truly random, gute Gruppengroesse"
   ]
  }
 ],
 "metadata": {
  "kernelspec": {
   "display_name": "Python 3",
   "language": "python",
   "name": "python3"
  },
  "language_info": {
   "codemirror_mode": {
    "name": "ipython",
    "version": 3
   },
   "file_extension": ".py",
   "mimetype": "text/x-python",
   "name": "python",
   "nbconvert_exporter": "python",
   "pygments_lexer": "ipython3",
   "version": "3.6.9"
  }
 },
 "nbformat": 4,
 "nbformat_minor": 2
}
