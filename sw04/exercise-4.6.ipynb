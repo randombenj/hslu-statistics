{
 "cells": [
  {
   "cell_type": "markdown",
   "metadata": {},
   "source": [
    "Die Auswertung eines Integrals\n",
    "\n",
    "$\\int_a^b f(x) dx$\n",
    "\n",
    "kann sehr oft nicht analytisch erfolgen. Der gebräuchlichste Ansatz in diesem Fall besteht darin, das Integral numerisch zu berechnen. Dazu existieren verschiedene Computerprogramme. Eine andere geläufige Methode, um ein solches Integral zuberechnen, ist die sogenannte **Monte Carlo Methode**. Man generiert dabei uniformverteilte Zufallsvariablen auf dem Intervall $[a,b], d.h.,X_1,X_2, . . . ,X_n i.i.d. ∼ Uniform([a,b])$ und berechnet\n",
    "\n",
    "$\\frac{b-a}{n} \\sum_{i=1}^n f(X_i)$.\n",
    "\n",
    "Dass dieser Ausdruck in etwa $\\int_a^b f(x) dx$ ist, möchten wir im Folgenden verstehen. Aufgrund des Gesetzes der grossen Zahlen gilt für grossen $n$\n",
    "\n",
    "$(b-a)·\\frac{1}{n} \\sum_{i=1}^n f(X_i) ≈ (b−a)·E[f(X)]$.\n",
    "\n",
    "Der Erwartungswert von $f(X)$ für $X∼Uniform([a,b])$ kann aber auch geschrieben werden als\n",
    "\n",
    "$E[f(X)] = \\int_a^b f(x) \\frac{1}{b-a} dx$,\n",
    "\n",
    "wobei $\\frac{1}{b-a}$ die Wahrscheinlichkeitsdichte der Wahrscheinlichkeitsverteilung $Uniform([a,b])$ ist. Somit gilt\n",
    "\n",
    "$\\frac{b-a}{n} \\sum_{i=1}^n f(X_i) ≈ (b−a)·E[f(X)] = (b-a)·\\int_a^b f(x) \\frac{1}{b-a} dx = \\int_a^b f(x)dx$.\n",
    "\n",
    "Berechnen Sie folgendes Integral\n",
    "\n",
    "$I(f) = \\frac{1}{\\sqrt{2π}} \\int_0^1 e^{-x^2/2}$\n",
    "\n",
    "Berechnen Sie das Integral, indem Sie 1000 uniform über das Intervall $[0, 1]$ verteilte Zahlen $X_1, . . . ,X_{1000}$ mit der Python-Funktion `uniform.rvs(...)` generieren. Berechnen Sie den genauen numerischen Wert des Integrals mit der Python-Funktion `norm.cdf(...)`."
   ]
  },
  {
   "cell_type": "code",
   "execution_count": null,
   "metadata": {},
   "outputs": [],
   "source": []
  }
 ],
 "metadata": {
  "kernelspec": {
   "display_name": "Python 3",
   "language": "python",
   "name": "python3"
  },
  "language_info": {
   "codemirror_mode": {
    "name": "ipython",
    "version": 3
   },
   "file_extension": ".py",
   "mimetype": "text/x-python",
   "name": "python",
   "nbconvert_exporter": "python",
   "pygments_lexer": "ipython3",
   "version": "3.7.4"
  }
 },
 "nbformat": 4,
 "nbformat_minor": 2
}
