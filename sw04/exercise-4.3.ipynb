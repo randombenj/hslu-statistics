{
 "cells": [
  {
   "cell_type": "markdown",
   "metadata": {},
   "source": [
    "---\n",
    "a) Eine Elektronik-Firma stellt Widerstände her, die einen mittleren Widerstand von $100Ω$ und eine Standardabweichung von $10Ω$ haben. Die Widerstände sind normalverteilt. Bestimmen Sie die Wahrscheinlichkeit, dass sich für eine zufällige Stichprobe von $n=25$ Widerständen ein mittlerer Widerstand unter $95Ω$ ergibt."
   ]
  },
  {
   "cell_type": "code",
   "execution_count": 7,
   "metadata": {},
   "outputs": [
    {
     "data": {
      "text/plain": [
       "0.006209665325776132"
      ]
     },
     "execution_count": 7,
     "metadata": {},
     "output_type": "execute_result"
    }
   ],
   "source": [
    "from scipy.stats import norm\n",
    "import numpy as np\n",
    "\n",
    "norm.cdf(x=95, loc=100, scale=2)  # wieso ist scale = 2"
   ]
  },
  {
   "cell_type": "markdown",
   "metadata": {},
   "source": [
    "---\n",
    "b) Nehmen Sie an, dass eine Zufallsvariable $X$ einer uniformen Verteilung folgt, und zwar $X∼\\mathit{Uniform}[4, 6]$. Die Zufallsvariable $\\bar{X_{40}}$ sei der Mittelwert einer i.i.d. Stichprobe vom Umfang $n=40$. Wie lautet die Verteilung von $\\bar{X_{40}}$ approximativ?"
   ]
  },
  {
   "cell_type": "code",
   "execution_count": 9,
   "metadata": {},
   "outputs": [],
   "source": [
    "a, b = 4, 6\n",
    "E = (a + b)/2\n",
    "σ = 1/12 * (b - a) ** 2"
   ]
  },
  {
   "cell_type": "code",
   "execution_count": 12,
   "metadata": {},
   "outputs": [
    {
     "data": {
      "text/plain": [
       "1.0"
      ]
     },
     "execution_count": 12,
     "metadata": {},
     "output_type": "execute_result"
    }
   ],
   "source": [
    "from scipy.stats import uniform\n",
    "from math import sqrt\n",
    "\n",
    "# da Normalverteilt ist standardabweichung = 1\n",
    "σ2 = 1/sqrt(40)\n",
    "\n",
    "uniform.cdf(x=40, loc=E, scale=σ2)"
   ]
  }
 ],
 "metadata": {
  "kernelspec": {
   "display_name": "Python 3",
   "language": "python",
   "name": "python3"
  },
  "language_info": {
   "codemirror_mode": {
    "name": "ipython",
    "version": 3
   },
   "file_extension": ".py",
   "mimetype": "text/x-python",
   "name": "python",
   "nbconvert_exporter": "python",
   "pygments_lexer": "ipython3",
   "version": "3.6.8"
  }
 },
 "nbformat": 4,
 "nbformat_minor": 2
}
