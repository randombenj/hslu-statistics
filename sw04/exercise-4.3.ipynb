{
 "cells": [
  {
   "cell_type": "markdown",
   "metadata": {},
   "source": [
    "a) Eine Elektronik-Firma stellt Widerstände her, die einen mittleren Widerstand von $100Ω$ und eine Standardabweichung von $10Ω$ haben. Die Widerstände sind normalverteilt. Bestimmen Sie die Wahrscheinlichkeit, dass sich für eine zufällige Stichprobe von $n=25$ Widerständen ein mittlerer Widerstand unter $95Ω$ ergibt."
   ]
  },
  {
   "cell_type": "markdown",
   "metadata": {},
   "source": [
    "b) Nehmen Sie an, dass eine Zufallsvariable $X$ einer uniformen Verteilung folgt, und zwar $X∼Uniform[4, 6]$. Die Zufallsvariable $\\bar{X_{40}}$ sei der Mittelwert einer i.i.d. Stichprobe vom Umfang $n=40$. Wie lautet die Verteilung von $\\bar{X_{40}}$ approximativ?"
   ]
  }
 ],
 "metadata": {
  "kernelspec": {
   "display_name": "Python 3",
   "language": "python",
   "name": "python3"
  },
  "language_info": {
   "codemirror_mode": {
    "name": "ipython",
    "version": 3
   },
   "file_extension": ".py",
   "mimetype": "text/x-python",
   "name": "python",
   "nbconvert_exporter": "python",
   "pygments_lexer": "ipython3",
   "version": "3.7.4"
  }
 },
 "nbformat": 4,
 "nbformat_minor": 2
}
