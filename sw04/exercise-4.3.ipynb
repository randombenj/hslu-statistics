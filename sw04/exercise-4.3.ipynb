{
 "cells": [
  {
   "cell_type": "markdown",
   "metadata": {},
   "source": [
    "---\n",
    "a) Eine Elektronik-Firma stellt Widerstände her, die einen mittleren Widerstand von $100Ω$ und eine Standardabweichung von $10Ω$ haben. Die Widerstände sind normalverteilt. Bestimmen Sie die Wahrscheinlichkeit, dass sich für eine zufällige Stichprobe von $n=25$ Widerständen ein mittlerer Widerstand unter $95Ω$ ergibt."
   ]
  },
  {
   "cell_type": "code",
   "execution_count": 7,
   "metadata": {},
   "outputs": [
    {
     "data": {
      "text/plain": [
       "0.006209665325776132"
      ]
     },
     "execution_count": 7,
     "metadata": {},
     "output_type": "execute_result"
    }
   ],
   "source": [
    "from scipy.stats import norm\n",
    "import numpy as np\n",
    "\n",
    "norm.cdf(x=95, loc=100, scale=10/np.sqrt(25))  # wieso ist scale = 2"
   ]
  },
  {
   "cell_type": "markdown",
   "metadata": {},
   "source": [
    "---\n",
    "b) Nehmen Sie an, dass eine Zufallsvariable $X$ einer uniformen Verteilung folgt, und zwar $X∼\\mathit{Uniform}[4, 6]$. Die Zufallsvariable $\\bar{X_{40}}$ sei der Mittelwert einer i.i.d. Stichprobe vom Umfang $n=40$. Wie lautet die Verteilung von $\\bar{X_{40}}$ approximativ?"
   ]
  },
  {
   "cell_type": "code",
   "execution_count": 10,
   "metadata": {},
   "outputs": [
    {
     "data": {
      "text/plain": [
       "(4, 6, 5.0, 0.3333333333333333)"
      ]
     },
     "execution_count": 10,
     "metadata": {},
     "output_type": "execute_result"
    }
   ],
   "source": [
    "a, b = 4, 6\n",
    "E = (a + b)/2\n",
    "v = 1/12 * (b - a) ** 2\n",
    "\n",
    "a, b, E, v"
   ]
  },
  {
   "cell_type": "code",
   "execution_count": 13,
   "metadata": {},
   "outputs": [
    {
     "name": "stdout",
     "output_type": "stream",
     "text": [
      "Normalverteilung mit E: 5.0 und σ: 0.09128709291752768\n"
     ]
    }
   ],
   "source": [
    "from scipy.stats import norm\n",
    "from math import sqrt\n",
    "\n",
    "# da Normalverteilt ist standardabweichung = 1\n",
    "σ = sqrt(v)/sqrt(40)\n",
    "\n",
    "print(f'Normalverteilung mit E: {E} und σ: {σ}')"
   ]
  }
 ],
 "metadata": {
  "kernelspec": {
   "display_name": "Python 3",
   "language": "python",
   "name": "python3"
  },
  "language_info": {
   "codemirror_mode": {
    "name": "ipython",
    "version": 3
   },
   "file_extension": ".py",
   "mimetype": "text/x-python",
   "name": "python",
   "nbconvert_exporter": "python",
   "pygments_lexer": "ipython3",
   "version": "3.6.8"
  }
 },
 "nbformat": 4,
 "nbformat_minor": 2
}
