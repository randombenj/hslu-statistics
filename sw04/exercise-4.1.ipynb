{
 "cells": [
  {
   "cell_type": "markdown",
   "metadata": {},
   "source": [
    "a) Gegeben sind zwei unabhängige Zufallsvariable X und Y mit den Kennwerten $μX=40$, $σX=15$, $μY=85$ und $σY=18$. Berechnen Sie $E(X+2Y)$, $Var(X+2Y)$ und $E(X^2)$."
   ]
  },
  {
   "cell_type": "markdown",
   "metadata": {},
   "source": [
    "$E(X+2Y) = E(X) + E(2Y) = E(X) + 2E(Y)$\n",
    "\n",
    "Fuer die Werte $E(X) = 40$ und $E(Y) = 85$\n",
    "\n",
    "$40 + 2\\times 85$"
   ]
  },
  {
   "cell_type": "code",
   "execution_count": 1,
   "metadata": {},
   "outputs": [
    {
     "data": {
      "text/plain": [
       "210"
      ]
     },
     "execution_count": 1,
     "metadata": {},
     "output_type": "execute_result"
    }
   ],
   "source": [
    "40 + 2 * 85"
   ]
  },
  {
   "cell_type": "markdown",
   "metadata": {},
   "source": [
    "$Var(X + 2Y) = Var(X) + Var(2Y) = Var(X) + 2^2Var(X)$\n",
    "\n",
    "Fuer die Werte $Var(X) = 15^2$ und $Var(Y) = 18^2$\n",
    "\n",
    "$15^2 + 2^2\\times 18^2$"
   ]
  },
  {
   "cell_type": "code",
   "execution_count": 6,
   "metadata": {},
   "outputs": [
    {
     "data": {
      "text/plain": [
       "1521"
      ]
     },
     "execution_count": 6,
     "metadata": {},
     "output_type": "execute_result"
    }
   ],
   "source": [
    "15**2 + 2**2 * 18**2"
   ]
  },
  {
   "cell_type": "markdown",
   "metadata": {},
   "source": [
    "Aus der Definition:\n",
    "\n",
    "$Var(X) = E(X^2) - E(X)^2$\n",
    "\n",
    "Somit gilt:\n",
    "\n",
    "$15^2 = E(X^2) - 40^2 \\xrightarrow{} E(X^2) = 15^2 + 40^2$ "
   ]
  },
  {
   "cell_type": "code",
   "execution_count": 7,
   "metadata": {},
   "outputs": [
    {
     "data": {
      "text/plain": [
       "1825"
      ]
     },
     "execution_count": 7,
     "metadata": {},
     "output_type": "execute_result"
    }
   ],
   "source": [
    "15**2 + 40**2"
   ]
  },
  {
   "cell_type": "markdown",
   "metadata": {},
   "source": [
    "b) Ein Werk produziert rechteckige Glasscheiben, deren Länge X und Breite Y (in mm gemessen) voneinander unabhängig produktionsbedingten Schwankungen unterliegen. Es gilt $μX=1000$, $σX=0.02$, $μY=500$, $σY=0.01$. Wie gross sind Erwartungswert und Standardabweichung des Umfangs U?"
   ]
  },
  {
   "cell_type": "markdown",
   "metadata": {},
   "source": [
    "$E(\\mathit{Total}) = 2E(X) + 2E(Y) = 2\\times 1000 + 2\\times 500$"
   ]
  },
  {
   "cell_type": "code",
   "execution_count": 8,
   "metadata": {},
   "outputs": [
    {
     "data": {
      "text/plain": [
       "3000"
      ]
     },
     "execution_count": 8,
     "metadata": {},
     "output_type": "execute_result"
    }
   ],
   "source": [
    "2*1000 + 2*500"
   ]
  },
  {
   "cell_type": "markdown",
   "metadata": {},
   "source": [
    "$\\sigma\\mathit{Total} = \\sqrt{2\\mathit{Var}(X) + 2\\mathit{Var}(Y)} = \\sqrt{2\\times 0.02^2 + 2\\times 0.01^2}$"
   ]
  },
  {
   "cell_type": "code",
   "execution_count": 14,
   "metadata": {},
   "outputs": [
    {
     "data": {
      "text/plain": [
       "0.044721359549995794"
      ]
     },
     "execution_count": 14,
     "metadata": {},
     "output_type": "execute_result"
    }
   ],
   "source": [
    "from math import sqrt\n",
    "\n",
    "sqrt(2**2 * 0.02**2 + 2**2 * 0.01**2)"
   ]
  },
  {
   "cell_type": "markdown",
   "metadata": {},
   "source": [
    "c) **(Zusatzaufgabe)** Bestimmen Sie die Wahrscheinlichkeitsdichte $f_X(x)$ der Zufallsvariablen $X=Z^2$, wobei $Z∼\\mathcal{N}(0, 1)$"
   ]
  },
  {
   "cell_type": "markdown",
   "metadata": {},
   "source": [
    "Normalverteilung heisst dass: $\\mu{Z} = 0$ und $\\sigma{Z} = 1$"
   ]
  }
 ],
 "metadata": {
  "kernelspec": {
   "display_name": "Python 3",
   "language": "python",
   "name": "python3"
  },
  "language_info": {
   "codemirror_mode": {
    "name": "ipython",
    "version": 3
   },
   "file_extension": ".py",
   "mimetype": "text/x-python",
   "name": "python",
   "nbconvert_exporter": "python",
   "pygments_lexer": "ipython3",
   "version": "3.6.8"
  }
 },
 "nbformat": 4,
 "nbformat_minor": 2
}
