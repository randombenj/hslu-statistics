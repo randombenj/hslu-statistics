{
 "cells": [
  {
   "cell_type": "markdown",
   "metadata": {},
   "source": [
    "a) Gegeben sind zwei unabhängige Zufallsvariable X und Y mit den Kennwerten $μX=40$, $σX=15$, $μY=85$ und $σY=18$. Berechnen Sie $E(X+2Y)$, $Var(X+2Y)$ und $E(X2)$."
   ]
  },
  {
   "cell_type": "markdown",
   "metadata": {},
   "source": [
    "b) Ein Werk produziert rechteckige Glasscheiben, deren Länge X und Breite Y (in mm gemessen) voneinander unabhängig produktionsbedingten Schwankungen unterliegen. Es gilt $μX=1000$, $σX=0.02$, $μY=500$, $σY=0.01$. Wie gross sind Erwartungswert und Standardabweichung des Umfangs U?"
   ]
  },
  {
   "cell_type": "markdown",
   "metadata": {},
   "source": [
    "c) **(Zusatzaufgabe)** Bestimmen Sie die Wahrscheinlichkeitsdichte $f_X(x)$ der Zufallsvariablen $X=Z^2$, wobei $Z∼\\mathcal{N}(0, 1)$"
   ]
  }
 ],
 "metadata": {
  "kernelspec": {
   "display_name": "Python 3",
   "language": "python",
   "name": "python3"
  },
  "language_info": {
   "codemirror_mode": {
    "name": "ipython",
    "version": 3
   },
   "file_extension": ".py",
   "mimetype": "text/x-python",
   "name": "python",
   "nbconvert_exporter": "python",
   "pygments_lexer": "ipython3",
   "version": "3.7.4"
  }
 },
 "nbformat": 4,
 "nbformat_minor": 2
}
