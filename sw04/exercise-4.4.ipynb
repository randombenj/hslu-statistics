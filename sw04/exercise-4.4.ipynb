{
 "cells": [
  {
   "cell_type": "markdown",
   "metadata": {},
   "source": [
    "Es seien $\\{X_i\\}_{1≤i≤50}$ unabhängige und normalverteilte Zufallsvariablen mit Erwartungswert $μ=1$ und Standardabweichung $σ=2$. Darüber hinaus sind folgende Zufallsvariablen definiert:\n",
    "\n",
    "$S_n = X_1 + X_2 +···+X_n$\n",
    "\n",
    "und\n",
    "\n",
    "$X_n=\\frac{1}{n}(X_1 + X_2 +···+X_n)=\\frac{S_n}{n}$\n",
    "\n",
    "Dabei ist $n=50$"
   ]
  },
  {
   "cell_type": "markdown",
   "metadata": {},
   "source": [
    "a) Bestimmen Sie die Parameter der Normalverteilung vonSnsowieXn."
   ]
  },
  {
   "cell_type": "markdown",
   "metadata": {},
   "source": [
    "b) Berechnen Sie die Wahrscheinlichkeit $P(E[X_1]−1≤X_1≤E[X_1] +1)$."
   ]
  },
  {
   "cell_type": "markdown",
   "metadata": {},
   "source": [
    "c) Berechnen Sie $P(E[S_n]−1≤S_n≤E[S_n] +1)$."
   ]
  },
  {
   "cell_type": "markdown",
   "metadata": {},
   "source": [
    "d) Berechnen Sie $P(E[\\bar{X_n}]−1≤\\bar{X_n}≤E[\\bar{X_n}] +1)$."
   ]
  }
 ],
 "metadata": {
  "kernelspec": {
   "display_name": "Python 3",
   "language": "python",
   "name": "python3"
  },
  "language_info": {
   "codemirror_mode": {
    "name": "ipython",
    "version": 3
   },
   "file_extension": ".py",
   "mimetype": "text/x-python",
   "name": "python",
   "nbconvert_exporter": "python",
   "pygments_lexer": "ipython3",
   "version": "3.7.4"
  }
 },
 "nbformat": 4,
 "nbformat_minor": 2
}
