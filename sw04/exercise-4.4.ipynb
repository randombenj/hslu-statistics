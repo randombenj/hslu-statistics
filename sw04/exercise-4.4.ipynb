{
 "cells": [
  {
   "cell_type": "markdown",
   "metadata": {},
   "source": [
    "Es seien $\\{X_i\\}_{1≤i≤50}$ unabhängige und normalverteilte Zufallsvariablen mit Erwartungswert $μ=1$ und Standardabweichung $σ=2$. Darüber hinaus sind folgende Zufallsvariablen definiert:\n",
    "\n",
    "$S_n = X_1 + X_2 +···+X_n$\n",
    "\n",
    "und\n",
    "\n",
    "$X_n=\\frac{1}{n}(X_1 + X_2 +···+X_n)=\\frac{S_n}{n}$\n",
    "\n",
    "Dabei ist $n=50$"
   ]
  },
  {
   "cell_type": "code",
   "execution_count": 1,
   "metadata": {},
   "outputs": [],
   "source": [
    "μ = 1\n",
    "σ = 2\n",
    "n = 50"
   ]
  },
  {
   "cell_type": "markdown",
   "metadata": {},
   "source": [
    "---\n",
    "a) Bestimmen Sie die Parameter der Normalverteilung von $S_n$ sowie $X_n$."
   ]
  },
  {
   "cell_type": "markdown",
   "metadata": {},
   "source": [
    "Für $S_n$:\n",
    "\n",
    "$E(S_n) = n\\mu = 50 \\times 1 = 50$\n",
    "\n",
    "$\\mathit{Var}(S_n) = n \\mathit{Var}(S_n) = n\\sigma^2 = 50 \\times 2^2 = 200$"
   ]
  },
  {
   "cell_type": "code",
   "execution_count": 2,
   "metadata": {},
   "outputs": [
    {
     "data": {
      "text/plain": [
       "(50, 200)"
      ]
     },
     "execution_count": 2,
     "metadata": {},
     "output_type": "execute_result"
    }
   ],
   "source": [
    "E_Sn = 50 * 1\n",
    "Var_Sn = 50 * 2**2\n",
    "\n",
    "E_Sn, Var_Sn"
   ]
  },
  {
   "cell_type": "markdown",
   "metadata": {},
   "source": [
    "Für $X_n$:\n",
    "\n",
    "$E(X_n) = \\mu = 1$\n",
    "\n",
    "$\\mathit{Var}(X_n) = \\frac{\\mathit{Var}(X_n)}{n} = \\frac{\\sigma^2}{n} = \\frac{2^2}{n} = \\frac{4}{50}$"
   ]
  },
  {
   "cell_type": "code",
   "execution_count": 3,
   "metadata": {},
   "outputs": [
    {
     "data": {
      "text/plain": [
       "(1, 0.08)"
      ]
     },
     "execution_count": 3,
     "metadata": {},
     "output_type": "execute_result"
    }
   ],
   "source": [
    "E_Xn = 1\n",
    "Var_Xn = 2**2/50\n",
    "\n",
    "E_Xn, Var_Xn"
   ]
  },
  {
   "cell_type": "markdown",
   "metadata": {},
   "source": [
    "---\n",
    "b) Berechnen Sie die Wahrscheinlichkeit $P(E[X_1]−1≤X_1≤E[X_1] +1)$."
   ]
  },
  {
   "cell_type": "code",
   "execution_count": 4,
   "metadata": {},
   "outputs": [
    {
     "data": {
      "text/plain": [
       "0.38292492254802624"
      ]
     },
     "execution_count": 4,
     "metadata": {},
     "output_type": "execute_result"
    }
   ],
   "source": [
    "from scipy.stats import norm\n",
    "\n",
    "norm.cdf(x=(μ+1), loc=μ, scale=σ) - norm.cdf(x=(μ-1), loc=μ, scale=σ)"
   ]
  },
  {
   "cell_type": "markdown",
   "metadata": {},
   "source": [
    "---\n",
    "c) Berechnen Sie $P(E[S_n]−1≤S_n≤E[S_n] +1)$."
   ]
  },
  {
   "cell_type": "code",
   "execution_count": 5,
   "metadata": {},
   "outputs": [
    {
     "data": {
      "text/plain": [
       "0.05637197779701664"
      ]
     },
     "execution_count": 5,
     "metadata": {},
     "output_type": "execute_result"
    }
   ],
   "source": [
    "from math import sqrt\n",
    "\n",
    "norm.cdf(x=(E_Sn+1), loc=E_Sn, scale=sqrt(Var_Sn)) - norm.cdf(x=(E_Sn-1), loc=E_Sn, scale=sqrt(Var_Sn))"
   ]
  },
  {
   "cell_type": "markdown",
   "metadata": {},
   "source": [
    "---\n",
    "d) Berechnen Sie $P(E[\\bar{X_n}]−1≤\\bar{X_n}≤E[\\bar{X_n}] +1)$."
   ]
  },
  {
   "cell_type": "code",
   "execution_count": 6,
   "metadata": {},
   "outputs": [
    {
     "data": {
      "text/plain": [
       "0.999593047982555"
      ]
     },
     "execution_count": 6,
     "metadata": {},
     "output_type": "execute_result"
    }
   ],
   "source": [
    "norm.cdf(x=(E_Xn+1), loc=E_Xn, scale=sqrt(Var_Xn)) - norm.cdf(x=(E_Xn-1), loc=E_Xn, scale=sqrt(Var_Xn))"
   ]
  }
 ],
 "metadata": {
  "kernelspec": {
   "display_name": "Python 3",
   "language": "python",
   "name": "python3"
  },
  "language_info": {
   "codemirror_mode": {
    "name": "ipython",
    "version": 3
   },
   "file_extension": ".py",
   "mimetype": "text/x-python",
   "name": "python",
   "nbconvert_exporter": "python",
   "pygments_lexer": "ipython3",
   "version": "3.6.8"
  }
 },
 "nbformat": 4,
 "nbformat_minor": 2
}
