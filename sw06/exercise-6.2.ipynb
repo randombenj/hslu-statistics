{
 "cells": [
  {
   "cell_type": "markdown",
   "metadata": {},
   "source": [
    "Ein Weinhändler behauptet,dass die von ihm gefüllten  Weinflaschen 70 Zentiliterenthalten. Ein skeptischer Konsument vermutet aber, dass der Weinhändler zu wenigWein abfüllt und will diese Behauptung überprüfen. Deshalb kauft er 12 Weinflaschenund misst ihren Inhalt. \n",
    "\n",
    "Er findet:"
   ]
  },
  {
   "cell_type": "code",
   "execution_count": 3,
   "metadata": {},
   "outputs": [],
   "source": [
    "import numpy as np\n",
    "\n",
    "# in Zentiliter\n",
    "data = np.array([71, 69, 67, 68, 73, 72, 71, 71, 68, 72, 69, 72])"
   ]
  },
  {
   "cell_type": "markdown",
   "metadata": {},
   "source": [
    "Die Standardabweichung der Abfüllungenist nicht bekannt.  Man muss sie also ausden gemachten Stichproben schätzen:\n",
    "\n",
    "\n",
    "$\\widehat{σ}_x^2 = \\frac{1}{n - 1} \\sum_{i=1}^n (x_i - \\hat{x})^2 ≈ 1.96^2$"
   ]
  },
  {
   "cell_type": "markdown",
   "metadata": {},
   "source": [
    "Da die Standardabweichung geschätzt wurde und nicht mehr exakt bekannt ist, kann der z-Test nicht durchgeführt werden. Verwenden Sie nun den t-Test auf dem 5%-Signifikanzniveau.\n",
    "\n",
    "Geben Sie die Modellannahmen: H0,HA, den Verwerfungsbereich, den Wert der Teststatistik und das Testergebnis explizit an.\n",
    "\n",
    "Was ändert sich an obigem Test?"
   ]
  }
 ],
 "metadata": {
  "kernelspec": {
   "display_name": "Python 3",
   "language": "python",
   "name": "python3"
  },
  "language_info": {
   "codemirror_mode": {
    "name": "ipython",
    "version": 3
   },
   "file_extension": ".py",
   "mimetype": "text/x-python",
   "name": "python",
   "nbconvert_exporter": "python",
   "pygments_lexer": "ipython3",
   "version": "3.7.5"
  }
 },
 "nbformat": 4,
 "nbformat_minor": 2
}
