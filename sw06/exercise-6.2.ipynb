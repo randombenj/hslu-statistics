{
 "cells": [
  {
   "cell_type": "markdown",
   "metadata": {},
   "source": [
    "Ein Weinhändler behauptet,dass die von ihm gefüllten  Weinflaschen 70 Zentiliterenthalten. Ein skeptischer Konsument vermutet aber, dass der Weinhändler zu wenigWein abfüllt und will diese Behauptung überprüfen. Deshalb kauft er 12 Weinflaschenund misst ihren Inhalt. \n",
    "\n",
    "Er findet:"
   ]
  },
  {
   "cell_type": "code",
   "execution_count": 3,
   "metadata": {},
   "outputs": [],
   "source": [
    "import numpy as np\n",
    "\n",
    "# in Zentiliter\n",
    "data = np.array([71, 69, 67, 68, 73, 72, 71, 71, 68, 72, 69, 72])"
   ]
  },
  {
   "cell_type": "markdown",
   "metadata": {},
   "source": [
    "Die Standardabweichung der Abfüllungen ist nicht bekannt. Man muss sie also aus |den gemachten Stichproben schätzen:\n",
    "\n",
    "\n",
    "$\\widehat{σ}_x^2 = \\frac{1}{n - 1} \\sum_{i=1}^n (x_i - \\hat{x})^2 ≈ 1.96^2$"
   ]
  },
  {
   "cell_type": "markdown",
   "metadata": {},
   "source": [
    "Da die Standardabweichung geschätzt wurde und nicht mehr exakt bekannt ist, kann der z-Test nicht durchgeführt werden. Verwenden Sie nun den t-Test auf dem 5%-Signifikanzniveau.\n",
    "\n",
    "Geben Sie die Modellannahmen: $H_0$, $H_A$, den Verwerfungsbereich, den Wert der Teststatistik und das Testergebnis explizit an.\n",
    "\n",
    "Was ändert sich an obigem Test?"
   ]
  },
  {
   "cell_type": "markdown",
   "metadata": {},
   "source": [
    "$$ H_0: \\mu = \\mu_0 = 70$$\n",
    "$$ H_A: \\mu < 70 $$"
   ]
  },
  {
   "cell_type": "code",
   "execution_count": 18,
   "metadata": {},
   "outputs": [
    {
     "data": {
      "text/plain": [
       "68.98388250815812"
      ]
     },
     "execution_count": 18,
     "metadata": {},
     "output_type": "execute_result"
    }
   ],
   "source": [
    "import scipy.stats as st\n",
    "\n",
    "q_005 = st.t.ppf(q=0.05, loc=70, scale=1.96/np.sqrt(data.size), df=data.size-1)\n",
    "q_005"
   ]
  },
  {
   "cell_type": "code",
   "execution_count": 17,
   "metadata": {},
   "outputs": [
    {
     "data": {
      "text/plain": [
       "False"
      ]
     },
     "execution_count": 17,
     "metadata": {},
     "output_type": "execute_result"
    }
   ],
   "source": [
    "q_005 > data.mean()"
   ]
  },
  {
   "cell_type": "markdown",
   "metadata": {},
   "source": [
    "Wir verwerfen die Nullhypothese **nicht** da die $q_5 > \\overline{x}$, es ist statistisch wahrscheinlich dass der Weinhaendler uns nicht betruegt."
   ]
  }
 ],
 "metadata": {
  "kernelspec": {
   "display_name": "Python 3",
   "language": "python",
   "name": "python3"
  },
  "language_info": {
   "codemirror_mode": {
    "name": "ipython",
    "version": 3
   },
   "file_extension": ".py",
   "mimetype": "text/x-python",
   "name": "python",
   "nbconvert_exporter": "python",
   "pygments_lexer": "ipython3",
   "version": "3.6.9"
  }
 },
 "nbformat": 4,
 "nbformat_minor": 2
}
