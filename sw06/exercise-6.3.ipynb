{
 "cells": [
  {
   "cell_type": "markdown",
   "metadata": {},
   "source": [
    "Unterhalb einer Kläranlage wurden 16 unabhängige Wasserproben aus einem Flussentnommen und jeweils deren Ammoniumkonzentration $X_i$ (in μg NH_4-N/l) miteinem Messgerät bestimmt. Der Mittelwert der Proben ergab $\\bar{x_{16}}=204.2$.Wir wollen nun wissen, ob mit diesem Experiment eine Überschreitung des Grenz-werts von 200 μg NH_4-N/l nachgewiesen werden kann (auf dem 5% Niveau)."
   ]
  },
  {
   "cell_type": "markdown",
   "metadata": {},
   "source": [
    "a) Nehmen Sie  an, die Standardabweichung der Messungen sei im  Voraus auf-grund früherer Studien bekannt. Sie betrage 10 μg NH_4-N/l.Führen Sie unter dieser Annahme einenz-Test durch,  um zu prüfen,  ob eineGrenzwert überschreitung nachgewiesen werden kann. Geben Sie die Modellannahmen,H0,HA, den Verwerfungsbereich, den Wert der Teststatistik und das Testergebnis explizit an."
   ]
  },
  {
   "cell_type": "markdown",
   "metadata": {},
   "source": [
    "b) Wie wahrscheinlich ist es, dass man mit 16 unabhängigen Wasserproben eine Grenzwertüberschreitung nachweisen kann, wenn die wahre Ammoniumkonzentration tatsächlich über dem Grenzwert, und zwar bei 205 μg  NH_4-N/l liegt?"
   ]
  },
  {
   "cell_type": "markdown",
   "metadata": {},
   "source": [
    "c) Wie wahrscheinlich ist es, dass man mit 16 unabhängigen Wasserproben fälschlicherweise eine Grenzwertüberschreitung  nachweist, obwohl die wahre Ammoniumkonzentration bei 200 μg NH-4-N/l liegt und den Grenzwert somit genau einhält?"
   ]
  },
  {
   "cell_type": "markdown",
   "metadata": {},
   "source": [
    "d) Nehmen Sie an, dass die Standardabweichung von 10 μg/l aus den 16 Probengeschätzt worden ist. Deshalb ist nun ein t-Test (Nullhypothese $μ_0=200 μg/l$) und nicht ein z-Test angebracht. Führen Sie den t-Test durch."
   ]
  },
  {
   "cell_type": "markdown",
   "metadata": {},
   "source": [
    "e) Welche Annahmen des t-Testes könnte verletzt sein und dazu führen, dass der t-Test schlechte Macht hat?"
   ]
  }
 ],
 "metadata": {
  "kernelspec": {
   "display_name": "Python 3",
   "language": "python",
   "name": "python3"
  },
  "language_info": {
   "codemirror_mode": {
    "name": "ipython",
    "version": 3
   },
   "file_extension": ".py",
   "mimetype": "text/x-python",
   "name": "python",
   "nbconvert_exporter": "python",
   "pygments_lexer": "ipython3",
   "version": "3.7.5"
  }
 },
 "nbformat": 4,
 "nbformat_minor": 2
}
