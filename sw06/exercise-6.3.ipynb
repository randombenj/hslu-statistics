{
 "cells": [
  {
   "cell_type": "markdown",
   "metadata": {},
   "source": [
    "Unterhalb einer Kläranlage wurden 16 unabhängige Wasserproben aus einem Fluss entnommen und jeweils deren Ammoniumkonzentration $X_i$ (in μg NH_4-N/l) miteinem Messgerät bestimmt. Der Mittelwert der Proben ergab $\\bar{x}_{16}=204.2$.Wir wollen nun wissen, ob mit diesem Experiment eine Überschreitung des Grenz-werts von 200 μg NH_4-N/l nachgewiesen werden kann (auf dem 5% Niveau)."
   ]
  },
  {
   "cell_type": "code",
   "execution_count": 1,
   "metadata": {},
   "outputs": [],
   "source": [
    "mu_emp = 204.2"
   ]
  },
  {
   "cell_type": "markdown",
   "metadata": {},
   "source": [
    "---\n",
    "a) Nehmen Sie  an, die Standardabweichung der Messungen sei im  Voraus aufgrund früherer Studien bekannt. Sie betrage 10 μg NH_4-N/l.Führen Sie unter dieser Annahme einen z-Test durch,  um zu prüfen,  ob eine Grenzwertüberschreitung nachgewiesen werden kann. Geben Sie die Modellannahmen, $H_0$, $H_A$, den Verwerfungsbereich, den Wert der Teststatistik und das Testergebnis explizit an."
   ]
  },
  {
   "cell_type": "code",
   "execution_count": 2,
   "metadata": {},
   "outputs": [],
   "source": [
    "sigma_emp = 10\n",
    "size = 16"
   ]
  },
  {
   "cell_type": "markdown",
   "metadata": {},
   "source": [
    "$$ H_0: \\mu = \\mu_0 = 200$$\n",
    "$$ H_A: \\mu > 200$$"
   ]
  },
  {
   "cell_type": "code",
   "execution_count": 3,
   "metadata": {},
   "outputs": [
    {
     "data": {
      "text/plain": [
       "(True, 204.1121340673787, 204.2)"
      ]
     },
     "execution_count": 3,
     "metadata": {},
     "output_type": "execute_result"
    }
   ],
   "source": [
    "import scipy.stats as st\n",
    "import numpy as np\n",
    "\n",
    "q_95 = st.norm.ppf(q=0.95, loc=200, scale=sigma_emp/np.sqrt(size))\n",
    "mu_emp > q_95, q_95, mu_emp"
   ]
  },
  {
   "cell_type": "markdown",
   "metadata": {},
   "source": [
    "Wir verwerfen die Nullhypothese $H_0$ und nehmen die Alternativhypothese an, der Grenzwert wurde somit ueberschritten."
   ]
  },
  {
   "cell_type": "markdown",
   "metadata": {},
   "source": [
    "---\n",
    "b) Wie wahrscheinlich ist es, dass man mit 16 unabhängigen Wasserproben eine Grenzwertüberschreitung nachweisen kann, wenn die wahre Ammoniumkonzentration tatsächlich über dem Grenzwert, und zwar bei 205 μg  NH_4-N/l liegt?"
   ]
  },
  {
   "cell_type": "code",
   "execution_count": 4,
   "metadata": {},
   "outputs": [
    {
     "data": {
      "text/plain": [
       "0.6387600313123338"
      ]
     },
     "execution_count": 4,
     "metadata": {},
     "output_type": "execute_result"
    }
   ],
   "source": [
    "1 - st.norm.cdf(x=q_95, loc=205, scale=sigma_emp/np.sqrt(size))"
   ]
  },
  {
   "cell_type": "markdown",
   "metadata": {},
   "source": [
    "---\n",
    "c) Wie wahrscheinlich ist es, dass man mit 16 unabhängigen Wasserproben fälschlicherweise eine Grenzwertüberschreitung  nachweist, obwohl die wahre Ammoniumkonzentration bei 200 μg NH-4-N/l liegt und den Grenzwert somit genau einhält?"
   ]
  },
  {
   "cell_type": "code",
   "execution_count": 7,
   "metadata": {},
   "outputs": [],
   "source": [
    "# vorgegeben mit 5%"
   ]
  },
  {
   "cell_type": "markdown",
   "metadata": {},
   "source": [
    "---\n",
    "d) Nehmen Sie an, dass die Standardabweichung von 10 μg/l aus den 16 Probengeschätzt worden ist. Deshalb ist nun ein t-Test (Nullhypothese $μ_0=200 μg/l$) und nicht ein z-Test angebracht. Führen Sie den t-Test durch."
   ]
  },
  {
   "cell_type": "code",
   "execution_count": 6,
   "metadata": {},
   "outputs": [
    {
     "data": {
      "text/plain": [
       "(False, 204.38262588923138, 204.2)"
      ]
     },
     "execution_count": 6,
     "metadata": {},
     "output_type": "execute_result"
    }
   ],
   "source": [
    "q_95 = st.t.ppf(q=0.95, loc=200, scale=10/np.sqrt(size), df=size-1)\n",
    "q_95 < mu_emp, q_95, mu_emp"
   ]
  },
  {
   "cell_type": "markdown",
   "metadata": {},
   "source": [
    "---\n",
    "e) Welche Annahmen des t-Testes könnte verletzt sein und dazu führen, dass der t-Test schlechte Macht hat?"
   ]
  },
  {
   "cell_type": "markdown",
   "metadata": {},
   "source": [
    "Ein z-Test setzt voraus dass die Streuung bekannt ist, desshalb koennte der t-Test ungenauer sein, da wir die Streuung haben."
   ]
  }
 ],
 "metadata": {
  "kernelspec": {
   "display_name": "Python 3",
   "language": "python",
   "name": "python3"
  },
  "language_info": {
   "codemirror_mode": {
    "name": "ipython",
    "version": 3
   },
   "file_extension": ".py",
   "mimetype": "text/x-python",
   "name": "python",
   "nbconvert_exporter": "python",
   "pygments_lexer": "ipython3",
   "version": "3.6.9"
  }
 },
 "nbformat": 4,
 "nbformat_minor": 2
}
