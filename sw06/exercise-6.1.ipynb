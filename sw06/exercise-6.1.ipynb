{
 "cells": [
  {
   "cell_type": "markdown",
   "metadata": {},
   "source": [
    "Ein Weinhändler behauptet, dass die von ihm gefüllten Weinflaschen 70 Zentiliter\n",
    "enthalten. Ein skeptischer Konsument vermutet aber, dass der Weinhändler zu wenig\n",
    "Wein abfüllt und will diese Behauptung überprüfen. Deshalb kauft er 12 Weinflaschen\n",
    "und misst ihren Inhalt. Er findet:"
   ]
  },
  {
   "cell_type": "code",
   "execution_count": 1,
   "metadata": {},
   "outputs": [],
   "source": [
    "import numpy as np\n",
    "data = np.array([71, 69, 67, 68, 73, 72, 71, 71, 68, 72, 69, 72])  # centiliter"
   ]
  },
  {
   "cell_type": "markdown",
   "metadata": {},
   "source": [
    "Nehmen Sie zunächst an, dass die Standardabweichung der Abfüllung im Voraus\n",
    "bekannt ist. Sie beträgt σ = 1.5 Zentiliter. \n",
    "Da die Standardabweichung der Messungen bekannt ist, können wir einen z-Test durchführen. Führen Sie den (einseitigen; in welche Richtung?) \n",
    "\n",
    "Test auf dem 5 %- Signifikanzniveau durch.\n",
    "Geben Sie die Modellannahmen, $H_0$, $H_A$, den Verwerfungsbereich, den Wert der Teststatistik und das Testergebnis explizit an.\n",
    "Formulieren Sie in einem Satz die Schlussfolgerung für den kritischen Konsumenten."
   ]
  },
  {
   "cell_type": "code",
   "execution_count": 2,
   "metadata": {},
   "outputs": [],
   "source": [
    "o = 1.5  # centiliter"
   ]
  },
  {
   "cell_type": "markdown",
   "metadata": {},
   "source": [
    "Wir fuehren einen linksseitigen z-test durch, da wir nur ueberpruefen wollen ob der weinhaendler zu wenig abfuellt, wenn es zu viel ist, ist das gut fuer uns.\n",
    "\n",
    "Nullhypothese:\n",
    "\n",
    "$H_0: \\mu = \\mu_0 = 70$\n",
    "\n",
    "Alternative:\n",
    "\n",
    "$H_a: \\mu < \\mu_0$"
   ]
  },
  {
   "cell_type": "code",
   "execution_count": 10,
   "metadata": {},
   "outputs": [
    {
     "data": {
      "text/plain": [
       "69.28775748677653"
      ]
     },
     "execution_count": 10,
     "metadata": {},
     "output_type": "execute_result"
    }
   ],
   "source": [
    "import scipy.stats as st\n",
    "\n",
    "q_005 = st.norm.ppf(q=0.05, loc=70, scale=1.5/np.sqrt(data.size))\n",
    "q_005"
   ]
  },
  {
   "cell_type": "code",
   "execution_count": 12,
   "metadata": {},
   "outputs": [
    {
     "data": {
      "text/plain": [
       "70.25"
      ]
     },
     "execution_count": 12,
     "metadata": {},
     "output_type": "execute_result"
    }
   ],
   "source": [
    "mean = data.mean()\n",
    "mean"
   ]
  },
  {
   "cell_type": "code",
   "execution_count": 16,
   "metadata": {},
   "outputs": [
    {
     "data": {
      "text/plain": [
       "False"
      ]
     },
     "execution_count": 16,
     "metadata": {},
     "output_type": "execute_result"
    }
   ],
   "source": [
    "q_005 >= mean"
   ]
  }
 ],
 "metadata": {
  "kernelspec": {
   "display_name": "Python 3",
   "language": "python",
   "name": "python3"
  },
  "language_info": {
   "codemirror_mode": {
    "name": "ipython",
    "version": 3
   },
   "file_extension": ".py",
   "mimetype": "text/x-python",
   "name": "python",
   "nbconvert_exporter": "python",
   "pygments_lexer": "ipython3",
   "version": "3.6.9"
  }
 },
 "nbformat": 4,
 "nbformat_minor": 2
}
