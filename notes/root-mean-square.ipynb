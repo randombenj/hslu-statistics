{
 "cells": [
  {
   "cell_type": "markdown",
   "metadata": {},
   "source": [
    "# root mean square\n",
    "\n",
    "$S_r: \\text{schritte nach rechts}$\n",
    "\n",
    "$S_r = Bin(n, p)$\n",
    "\n",
    "$M_n: \\text{Position nach N Schritten}$\n",
    "\n",
    "$M_n = S_r - (N-S_r)$\n",
    "\n",
    "$E[M_n] = E[2S_r-N] = 2 E[S_r] - N = 2Np-N = 0$\n",
    "\n",
    "$p=\\frac{1}{2}$\n",
    "\n",
    "Root mean square (RMS) *Mittlere quadratische verschiebung*\n",
    "\n",
    "$E[M_n^2] = \\text{RMS}$\n",
    "\n",
    "$E[M_n^2] = E[(2S_r -N)^2] = E[4S_r^2+N^2-4S_rN] = 4E[S_r^2] + N - 4NE[S_r] = N^2 - 4N^2p + 4E[S_r^2] = N^2 - 4N^2p + (\\text{Var}[S_r] - E^2[S_r]) = N^2 - 4N^2p + 4(Np(1-p) -(Np)^2)$\n",
    "\n",
    "$\\sqrt{E[M_n^2]} = \\sqrt{N^2 - 4N^2p + 4(Np(1-p) - (Np)^2)} = 31.6m$"
   ]
  }
 ],
 "metadata": {
  "kernelspec": {
   "display_name": "Python 3",
   "language": "python",
   "name": "python3"
  },
  "language_info": {
   "codemirror_mode": {
    "name": "ipython",
    "version": 3
   },
   "file_extension": ".py",
   "mimetype": "text/x-python",
   "name": "python",
   "nbconvert_exporter": "python",
   "pygments_lexer": "ipython3",
   "version": "3.6.9"
  }
 },
 "nbformat": 4,
 "nbformat_minor": 2
}
