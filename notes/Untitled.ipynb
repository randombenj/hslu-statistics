{
 "cells": [
  {
   "cell_type": "markdown",
   "metadata": {},
   "source": [
    "Eine Brücke soll aufgrund des höheren Verkehrsaufkommens renoviert werden. Im\n",
    "Bau wurden damals Schrauben mit einer mittleren Festigkeit von 500 N/mm2 benutzt. Da dies für nicht mehr sicher genug gehalten wird, sollen diese nun durch\n",
    "Schrauben mit einer mittleren Festigkeit von mehr als 500 N/mm2 ersetzt werden.\n",
    "Um diesen Anforderungen gerecht zu werden, hat der alte Schraubenlieferant ein\n",
    "neues Verfahren entwickelt. Zur Baustelle werden allerdings unbeschriftete Schrauben geliefert, aus denen nicht sofort hervorgeht, ob es sich um die alten 500er oder\n",
    "um die neuen verbesserten Schrauben handelt.\n",
    "Vor dem Verbau will der leitende Ingenieur zuerst sicherstellen, dass es sich um die\n",
    "besseren Schrauben handelt. Um dies herauszufinden, werden einige der Schrauben\n",
    "vermessen und ein statistischer Test durchgeführt. Je nach Ergebnis sollen die Schrauben verbaut oder zurückgeschickt werden.\n",
    "1\n",
    "\n",
    "Für den empirischen Mittelwert und empirische Varianz ergeben sich bei obiger Stichprobe $x_5 = 512$ und $s_x^2 = 106.5$.\n",
    "Wir modellieren die Daten mit einer Normalverteilung, d. h. $X_i i.i.d. ∼ \\mathcal{N}(μ, σ^2)$."
   ]
  },
  {
   "cell_type": "markdown",
   "metadata": {},
   "source": [
    "---\n",
    "a) Stellen Sie die geeigneten Null- und Alternativhypothesen auf und begründen\n",
    "Sie Ihre Wahl."
   ]
  },
  {
   "cell_type": "markdown",
   "metadata": {},
   "source": [
    "Die Nullhypothese ist $H_0: \\mu = 500$\n",
    "\n",
    "Die Alternativhypothese (was wir wollen, schrauben mit mehr kraft) $H_a: \\mu > 500$"
   ]
  },
  {
   "cell_type": "markdown",
   "metadata": {},
   "source": [
    "---\n",
    "b) Sie führen nun einen einseitigen t-Test zum Niveau $α = 0.05$ durch (unabhängig\n",
    "von Ihrer obigen Antwort). Stellen Sie die Teststatistik T auf und berechnen\n",
    "Sie deren Wert. Geben Sie die Verteilung der Teststatistik T unter $H_0$ und den\n",
    "Verwerfungsbereich des Tests an. Was ist der Testentscheid?"
   ]
  },
  {
   "cell_type": "code",
   "execution_count": 4,
   "metadata": {},
   "outputs": [],
   "source": [
    "import numpy as np\n",
    "from scipy.stats import norm, t\n",
    "\n",
    "α = 0.05 \n",
    "𝜇 = 500\n",
    "n = 5"
   ]
  },
  {
   "cell_type": "markdown",
   "metadata": {},
   "source": [
    "$T = \\frac{\\bar{X_n} = \\mu}{\\frac{\\sqrt{s_x^2}}{\\sqrt{n}}} = \\frac{\\bar{X_n} = 500}{\\frac{\\sqrt{106.5}}{\\sqrt{5}}}$\n",
    "\n",
    "$2 \\times P(T > d) = 0.05$\n",
    "\n",
    "$P(T \\leq d) = 0.95$"
   ]
  },
  {
   "cell_type": "code",
   "execution_count": 8,
   "metadata": {},
   "outputs": [
    {
     "data": {
      "text/plain": [
       "2.13184678133629"
      ]
     },
     "execution_count": 8,
     "metadata": {},
     "output_type": "execute_result"
    }
   ],
   "source": [
    "t.ppf(q=1-α, df=n-1)"
   ]
  },
  {
   "cell_type": "markdown",
   "metadata": {},
   "source": [
    "Die Nullhypothese $H_0$ wird verworfen da 2.6 > 2.13 (heisst die Nullhypothese ist falsch, wir verbauen die Schrauben)"
   ]
  },
  {
   "cell_type": "markdown",
   "metadata": {},
   "source": [
    "---\n",
    "c) Berechnen Sie ein (zweiseitiges) 95%-Vertrauensintervall für $\\mu$."
   ]
  },
  {
   "cell_type": "markdown",
   "metadata": {},
   "source": [
    "$[\\bar{x_5} - t\\frac{\\sigma_x}{\\sqrt{5}}, \\bar{x_5} + t\\frac{\\sigma_x}{\\sqrt{5}}]$\n",
    "\n",
    "$t=t_{4,0.975}$"
   ]
  },
  {
   "cell_type": "code",
   "execution_count": 17,
   "metadata": {},
   "outputs": [
    {
     "data": {
      "text/plain": [
       "array([499.18617192, 524.81382808])"
      ]
     },
     "execution_count": 17,
     "metadata": {},
     "output_type": "execute_result"
    }
   ],
   "source": [
    "t.ppf(q=[0.025, 0.975], loc=512, scale=np.sqrt(106.5)/np.sqrt(5), df=4)"
   ]
  },
  {
   "cell_type": "code",
   "execution_count": null,
   "metadata": {},
   "outputs": [],
   "source": []
  }
 ],
 "metadata": {
  "kernelspec": {
   "display_name": "Python 3",
   "language": "python",
   "name": "python3"
  },
  "language_info": {
   "codemirror_mode": {
    "name": "ipython",
    "version": 3
   },
   "file_extension": ".py",
   "mimetype": "text/x-python",
   "name": "python",
   "nbconvert_exporter": "python",
   "pygments_lexer": "ipython3",
   "version": "3.6.8"
  }
 },
 "nbformat": 4,
 "nbformat_minor": 2
}
