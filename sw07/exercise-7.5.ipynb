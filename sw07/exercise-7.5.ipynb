{
 "cells": [
  {
   "attachments": {
    "image.png": {
     "image/png": "[encoded data removed]"
    }
   },
   "cell_type": "markdown",
   "metadata": {},
   "source": [
    "Eine Brücke soll aufgrund des höheren Verkehrsaufkommens renoviert werden. Im Bau wurden damals Schrauben mit einer mittleren Festigkeit von $500  N/mm^2$ benutzt. Da dies für nicht mehr sicher genug gehalten wird, sollen diese nun durch Schrauben mit einer mittleren Festigkeit von mehr als $500 N/mm^2$ ersetzt werden.\n",
    "\n",
    "Um diesen Anforderungen gerecht zu werden, hat der alte Schrauben lieferant ein neues Verfahren entwickelt. Zur Baustelle werden allerdings unbeschriftete Schrauben geliefert, aus denen nicht sofort hervorgeht, ob es sich um die alten 500er oder um die neuen verbesserten Schrauben handelt.\n",
    "\n",
    "Vor dem Verbau will der leitende Ingenieur zuerst sicherstellen, dass es sich um diebesseren Schrauben handelt. Um dies herauszufinden, werden einige der Schraubenvermessen und ein statistischer Test durchgeführt. Je nach Ergebnis sollen die Schrauben verbaut oder zurückgeschickt werden.\n",
    "\n",
    "![image.png](attachment:image.png)\n",
    "\n",
    "Für den empirischen Mittelwert und empirische Varianz ergeben sich bei obiger Stichprobe $\\bar{x}_5=512$ und $s_x^2=106.5$.\n",
    "\n",
    "Wir modellieren die Daten mit einer Normalverteilung, d.h. $X_i i.i.d. ∼ N(μ,σ^2)$."
   ]
  },
  {
   "cell_type": "markdown",
   "metadata": {},
   "source": [
    "a) Stellen Sie die geeigneten Null- und Alternativhypothesen auf und begründen Sie Ihre Wahl."
   ]
  },
  {
   "cell_type": "markdown",
   "metadata": {},
   "source": [
    "b) Sie führen nun einen einseitigen t-Test zum Niveau $α=0.05$ durch (unabhängigvon Ihrer obigen Antwort). Stellen Sie die Teststatistik $T$ auf und berechnen Sie deren Wert. Geben Sie die Verteilung der Teststatistik $T$ unter H0 und den Verwerfungsbereich des Tests an. Was ist der Testentscheid?"
   ]
  },
  {
   "cell_type": "markdown",
   "metadata": {},
   "source": [
    "c) Berechnen Sie ein (zweiseitiges) 95%-Vertrauensintervall für $μ$."
   ]
  },
  {
   "cell_type": "markdown",
   "metadata": {},
   "source": [
    "d) Wie würde das entsprechende Vertrauensintervall von c) aussehen, wenn wir die Streuung als bekannt voraussetzen würden (mit dem gleichen Wert wieder beobachtete)?"
   ]
  },
  {
   "cell_type": "markdown",
   "metadata": {},
   "source": [
    "e) Betrachten Sie (unabhängig von dem oben aufgeführten Beispiel) einen einseitigent-Test von $H_0:μ=0$ gegen $H_A:μ>0$ zum Niveau 0.05.\n",
    "\n",
    "Obwohl die beobachteten $n$ Datenpunkte einen empirischen Mittelwert grösser Null haben, ergeben die Berechnungen, dass die Nullhypothese nicht verworfen wird.\n",
    "\n",
    "Entscheiden Sie, ob folgende Aussagen **wahr** oder **falsch** sind.\n",
    "\n",
    "- Man verwirft $H_0$ für kein Niveau $α<0.05$\n",
    "- Es gibt ein Niveau $α<1$, bei dem man $H_0$ verwirft.\n",
    "- Der $p$-Wert ist strikt kleiner als 0.5.\n",
    "- Führt man statt eines einseitigen einen zweiseitigen Testzum Niveau 0.05 durch, verwirft man $H_0$ nicht.\n",
    "- Wenn man die Daten immer öfter kopiert (d. h., man betrachtet jeden Datenpunkt $k$-Mal, so dass man insgesamt $k·n$ Datenpunkte erhält), verwirft man $H_0$ für ein grosses $k$ beim Niveau 0.05."
   ]
  }
 ],
 "metadata": {
  "kernelspec": {
   "display_name": "Python 3",
   "language": "python",
   "name": "python3"
  },
  "language_info": {
   "codemirror_mode": {
    "name": "ipython",
    "version": 3
   },
   "file_extension": ".py",
   "mimetype": "text/x-python",
   "name": "python",
   "nbconvert_exporter": "python",
   "pygments_lexer": "ipython3",
   "version": "3.7.5"
  }
 },
 "nbformat": 4,
 "nbformat_minor": 2
}
