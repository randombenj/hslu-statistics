{
 "cells": [
  {
   "attachments": {
    "image.png": {
     "image/png": "[encoded data removed]"
    }
   },
   "cell_type": "markdown",
   "metadata": {},
   "source": [
    "Old Faithful ist ein Geysir im Yellowstone National Park in Wyoming:\n",
    "https://en.wikipedia.org/wiki/Old_Faithful\n",
    "\n",
    "Im Datensatz `oldfaithful.txt` sind Längen von 272 aufeinanderfolgenden Ausbrüchen aufgeführt. Hier ist ein Histogramm der Daten.\n",
    "\n",
    "![image.png](attachment:image.png)"
   ]
  },
  {
   "cell_type": "markdown",
   "metadata": {},
   "source": [
    "a) Schätzen Sie den Mittelwert der Eruptionsdauern ab und geben Sie ein 95% Vertrauensintervall mit dem vereinfachten Bootstrap-Verfahren im Skript an. Verwenden Sie dazu 1000 Bootstraps."
   ]
  },
  {
   "cell_type": "code",
   "execution_count": 52,
   "metadata": {},
   "outputs": [
    {
     "name": "stdout",
     "output_type": "stream",
     "text": [
      "Vertrauensintervall:  [201.48005515 216.56865809]\n"
     ]
    }
   ],
   "source": [
    "import numpy as np\n",
    "\n",
    "np.random.seed(1337)\n",
    "\n",
    "x = np.loadtxt(r\"oldfaithful.txt\")\n",
    "n = np.size(x)\n",
    "\n",
    "nboot = 1000 \n",
    "bootstrapsample = np.reshape(\n",
    "    np.random.choice(x, n*nboot, replace=True),\n",
    "    (n, nboot)\n",
    ")\n",
    "xbarstar = np.mean(bootstrapsample, axis=0)\n",
    "\n",
    "print('Vertrauensintervall: ', np.percentile(xbarstar, q=[2.5, 97.5]))"
   ]
  },
  {
   "cell_type": "markdown",
   "metadata": {},
   "source": [
    "b) Machen Sie dasselbe für den Median."
   ]
  },
  {
   "cell_type": "code",
   "execution_count": 25,
   "metadata": {},
   "outputs": [
    {
     "data": {
      "text/plain": [
       "240.0"
      ]
     },
     "execution_count": 25,
     "metadata": {},
     "output_type": "execute_result"
    }
   ],
   "source": [
    "np.median(bootstrapsample)"
   ]
  },
  {
   "cell_type": "markdown",
   "metadata": {},
   "source": [
    "c) Schätzen Sie die Wahrscheinlichkeit\n",
    "\n",
    "$$P(|\\bar{x} - μ| > 5)$$\n",
    "\n",
    "ab.\n",
    "\n",
    "Ersetzen Sie zur Abschätzung $μ$ durch den Mittelwert der Daten und $\\bar{x}$ durch die Bootstraps."
   ]
  },
  {
   "cell_type": "code",
   "execution_count": 50,
   "metadata": {},
   "outputs": [
    {
     "data": {
      "text/plain": [
       "0.218"
      ]
     },
     "execution_count": 50,
     "metadata": {},
     "output_type": "execute_result"
    }
   ],
   "source": [
    "nboot = 1000\n",
    "sample = np.reshape(\n",
    "    np.random.choice(x, n*nboot, replace=True),\n",
    "    (n, nboot)\n",
    ")\n",
    "diffs = np.abs(np.mean(sample, axis=0) - np.mean(x))\n",
    "\n",
    "left = np.sum(diffs > 5)\n",
    "right = np.sum(diffs < -5)\n",
    "\n",
    "(left + right)/nboot"
   ]
  }
 ],
 "metadata": {
  "kernelspec": {
   "display_name": "Python 3",
   "language": "python",
   "name": "python3"
  },
  "language_info": {
   "codemirror_mode": {
    "name": "ipython",
    "version": 3
   },
   "file_extension": ".py",
   "mimetype": "text/x-python",
   "name": "python",
   "nbconvert_exporter": "python",
   "pygments_lexer": "ipython3",
   "version": "3.6.9"
  }
 },
 "nbformat": 4,
 "nbformat_minor": 2
}
