{
 "cells": [
  {
   "cell_type": "markdown",
   "metadata": {},
   "source": [
    "Aus der uniformen Verteilung $X∼\\text{Uniform}([0, 10])$ soll eine Stichprobe vom Umfang $n$ gezogen werden."
   ]
  },
  {
   "cell_type": "markdown",
   "metadata": {},
   "source": [
    "a) Es sei $n=60$. Bestimmen Sie ein symmetrisches Intervall\n",
    "\n",
    "$$I=[μ_X−e, μ_X+e]$$\n",
    "\n",
    "um den Erwartungswert $μ_X$ so, dass sich das arithmetische Mittel der Stich-probe, also $\\bar{X_{60}}$, mit der Wahrscheinlichkeit von 95% in $I$ befindet. Ein solches Intervall heisst **Prognoseintervall**. Hinweis: Standardisieren Sie das arithmetische Mittel $\\bar{X_n}$ und benützen Sie den Zentralen Grenzwertsatz und $P(\\bar{X_n}∈I)=0.95$."
   ]
  },
  {
   "cell_type": "code",
   "execution_count": 1,
   "metadata": {},
   "outputs": [
    {
     "data": {
      "text/html": [
       "<div>\n",
       "<style scoped>\n",
       "    .dataframe tbody tr th:only-of-type {\n",
       "        vertical-align: middle;\n",
       "    }\n",
       "\n",
       "    .dataframe tbody tr th {\n",
       "        vertical-align: top;\n",
       "    }\n",
       "\n",
       "    .dataframe thead th {\n",
       "        text-align: right;\n",
       "    }\n",
       "</style>\n",
       "<table border=\"1\" class=\"dataframe\">\n",
       "  <thead>\n",
       "    <tr style=\"text-align: right;\">\n",
       "      <th></th>\n",
       "      <th>0</th>\n",
       "    </tr>\n",
       "  </thead>\n",
       "  <tbody>\n",
       "    <tr>\n",
       "      <td>count</td>\n",
       "      <td>60.000000</td>\n",
       "    </tr>\n",
       "    <tr>\n",
       "      <td>mean</td>\n",
       "      <td>0.488863</td>\n",
       "    </tr>\n",
       "    <tr>\n",
       "      <td>std</td>\n",
       "      <td>0.296715</td>\n",
       "    </tr>\n",
       "    <tr>\n",
       "      <td>min</td>\n",
       "      <td>0.000000</td>\n",
       "    </tr>\n",
       "    <tr>\n",
       "      <td>25%</td>\n",
       "      <td>0.258663</td>\n",
       "    </tr>\n",
       "    <tr>\n",
       "      <td>50%</td>\n",
       "      <td>0.474990</td>\n",
       "    </tr>\n",
       "    <tr>\n",
       "      <td>75%</td>\n",
       "      <td>0.733111</td>\n",
       "    </tr>\n",
       "    <tr>\n",
       "      <td>max</td>\n",
       "      <td>1.000000</td>\n",
       "    </tr>\n",
       "  </tbody>\n",
       "</table>\n",
       "</div>"
      ],
      "text/plain": [
       "               0\n",
       "count  60.000000\n",
       "mean    0.488863\n",
       "std     0.296715\n",
       "min     0.000000\n",
       "25%     0.258663\n",
       "50%     0.474990\n",
       "75%     0.733111\n",
       "max     1.000000"
      ]
     },
     "execution_count": 1,
     "metadata": {},
     "output_type": "execute_result"
    }
   ],
   "source": [
    "import numpy as np\n",
    "import scipy.stats as st\n",
    "from pandas import DataFrame\n",
    "\n",
    "np.random.seed(1337)\n",
    "\n",
    "n = 60\n",
    "\n",
    "data = np.random.uniform(0, 10, n)\n",
    "\n",
    "# normalize\n",
    "norm_data = (data - np.min(data))/(np.max(data) - np.min(data))\n",
    "DataFrame(norm_data).describe()"
   ]
  },
  {
   "cell_type": "code",
   "execution_count": 2,
   "metadata": {},
   "outputs": [
    {
     "data": {
      "text/plain": [
       "(0.4144130377977815, 0.5633119939840535)"
      ]
     },
     "execution_count": 2,
     "metadata": {},
     "output_type": "execute_result"
    }
   ],
   "source": [
    "I = st.norm(norm_data.mean(), norm_data.std()/np.sqrt(n)).interval(0.95)\n",
    "I"
   ]
  },
  {
   "cell_type": "code",
   "execution_count": 3,
   "metadata": {},
   "outputs": [
    {
     "data": {
      "text/plain": [
       "0.07444947809313601"
      ]
     },
     "execution_count": 3,
     "metadata": {},
     "output_type": "execute_result"
    }
   ],
   "source": [
    "e = (I[1] - I[0])/2\n",
    "e"
   ]
  },
  {
   "cell_type": "markdown",
   "metadata": {},
   "source": [
    "b) Umgekehrt: Wie gross muss $n$ gewählt werden, damit $e=0.2$ wird?"
   ]
  },
  {
   "cell_type": "code",
   "execution_count": 4,
   "metadata": {},
   "outputs": [
    {
     "data": {
      "text/plain": [
       "[4.8, 5.2]"
      ]
     },
     "execution_count": 4,
     "metadata": {},
     "output_type": "execute_result"
    }
   ],
   "source": [
    "e = 0.2\n",
    "\n",
    "I = [5 - e, 5 + e]\n",
    "I"
   ]
  },
  {
   "cell_type": "markdown",
   "metadata": {},
   "source": [
    "Da wir wissen dass:\n",
    "\n",
    "$$e = \\frac{5}{\\sqrt{3n}}q_{0.975}$$\n",
    "\n",
    "$n$ erhalten wir durch umformen:\n",
    "\n",
    "$$n = \\frac{(\\frac{5q_{0.975}}{e})^2}{3}\\rvert_{q_{0.975}=1.96, e=0.2}=800.333$$"
   ]
  },
  {
   "cell_type": "code",
   "execution_count": 5,
   "metadata": {},
   "outputs": [
    {
     "data": {
      "text/plain": [
       "800.3333333333334"
      ]
     },
     "execution_count": 5,
     "metadata": {},
     "output_type": "execute_result"
    }
   ],
   "source": [
    "n = (((5 * 1.96)/(0.2))**2)/3\n",
    "n"
   ]
  },
  {
   "cell_type": "markdown",
   "metadata": {},
   "source": [
    "c) Überprüfen Sie a) experimentell, d. h. mit Python: ziehen Sie viele Stichproben (z.B. 200) und zählen Sie, wie viele ausserhalb von $I$ liegen. Python-Hinweise:"
   ]
  },
  {
   "cell_type": "code",
   "execution_count": 7,
   "metadata": {},
   "outputs": [
    {
     "data": {
      "text/plain": [
       "<matplotlib.lines.Line2D at 0x7fb38e498da0>"
      ]
     },
     "execution_count": 7,
     "metadata": {},
     "output_type": "execute_result"
    },
    {
     "data": {
      "image/png": "[encoded data removed]",
      "text/plain": [
       "<Figure size 432x288 with 1 Axes>"
      ]
     },
     "metadata": {
      "needs_background": "light"
     },
     "output_type": "display_data"
    }
   ],
   "source": [
    "from scipy.stats import uniform\n",
    "import matplotlib.pyplot as plt\n",
    "import numpy as np\n",
    "\n",
    "n = 60 # Anzahl Stichproben\n",
    "\n",
    "sim_mean = uniform(0, 10).rvs(size=200*n).reshape(200, n).mean(axis=1)\n",
    "plt.plot(np.arange(1,201,1), sim_mean, \"bo\")\n",
    "\n",
    "plt.axhline(y=5.73, color='red')\n",
    "plt.axhline(y=4.27, color='red')"
   ]
  }
 ],
 "metadata": {
  "kernelspec": {
   "display_name": "Python 3",
   "language": "python",
   "name": "python3"
  },
  "language_info": {
   "codemirror_mode": {
    "name": "ipython",
    "version": 3
   },
   "file_extension": ".py",
   "mimetype": "text/x-python",
   "name": "python",
   "nbconvert_exporter": "python",
   "pygments_lexer": "ipython3",
   "version": "3.6.9"
  }
 },
 "nbformat": 4,
 "nbformat_minor": 2
}
