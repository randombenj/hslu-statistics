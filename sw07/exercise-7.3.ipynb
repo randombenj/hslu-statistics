{
 "cells": [
  {
   "cell_type": "markdown",
   "metadata": {},
   "source": [
    "Aufgrund langjähriger Untersuchungen ist bekannt, dass der Bleigehalt $X$ von gewissen Bodenproben annähernd normal-verteilt ist\n",
    "\n",
    "$$ X∼N(μ,σ^2) $$"
   ]
  },
  {
   "cell_type": "markdown",
   "metadata": {},
   "source": [
    "a) Es wurden in 10 Bodenproben der Bleigehalt $X$ gemessen. Dabei wurde ein Mittelwert von $\\bar{x}_{10}=31 ppb$ erhalten. Die Standardabweichung sei bekannt und beträgt 6 ppb.\n",
    "\n",
    "Geben Sie das zweiseitige 99% Vertrauensintervall für den Mittelwert an."
   ]
  },
  {
   "cell_type": "markdown",
   "metadata": {},
   "source": [
    "b) Wie viele Beobachtungen sind nötig, um die Breite des in Teilaufgabe a) bestimmten zweiseitigen Vertrauensintervalls auf die Hälfte zu reduzieren?\n",
    "\n",
    "Wie viele (unabhängige) Bestimmungen des Bleigehalts müssen geplant werden, falls der Bleigehalt mit einer Stichprobe „1 ppb genau” bestimmt werden soll, d.h., wenn die Breite des 99% des Konfidenzintervalls nicht grösser als 1ppb sein soll?"
   ]
  },
  {
   "cell_type": "markdown",
   "metadata": {},
   "source": [
    "c) Normalerweise ist die Standardabweichung $σ$ unbekannt. Um welchen Faktorverändert sich die Breite des zweiseitigen Vertrauensintervalls in Teilaufgabe a), wenn man die Standardabweichung aus den Daten geschätzt hat, als $\\hat{σ}=6$?"
   ]
  }
 ],
 "metadata": {
  "kernelspec": {
   "display_name": "Python 3",
   "language": "python",
   "name": "python3"
  },
  "language_info": {
   "codemirror_mode": {
    "name": "ipython",
    "version": 3
   },
   "file_extension": ".py",
   "mimetype": "text/x-python",
   "name": "python",
   "nbconvert_exporter": "python",
   "pygments_lexer": "ipython3",
   "version": "3.7.5"
  }
 },
 "nbformat": 4,
 "nbformat_minor": 2
}
