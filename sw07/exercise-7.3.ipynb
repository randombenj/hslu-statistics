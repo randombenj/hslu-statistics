{
 "cells": [
  {
   "cell_type": "markdown",
   "metadata": {},
   "source": [
    "Aufgrund langjähriger Untersuchungen ist bekannt, dass der Bleigehalt $X$ von gewissen Bodenproben annähernd normal-verteilt ist\n",
    "\n",
    "$$ X∼N(μ,σ^2) $$"
   ]
  },
  {
   "cell_type": "markdown",
   "metadata": {},
   "source": [
    "---\n",
    "a) Es wurden in 10 Bodenproben der Bleigehalt $X$ gemessen. Dabei wurde ein Mittelwert von $\\bar{x}_{10}=31 ppb$ erhalten. Die Standardabweichung sei bekannt und beträgt 6 ppb.\n",
    "\n",
    "Geben Sie das zweiseitige 99% Vertrauensintervall für den Mittelwert an."
   ]
  },
  {
   "cell_type": "code",
   "execution_count": 1,
   "metadata": {},
   "outputs": [],
   "source": [
    "import numpy as np\n",
    "import scipy.stats as st"
   ]
  },
  {
   "cell_type": "code",
   "execution_count": 3,
   "metadata": {},
   "outputs": [
    {
     "data": {
      "text/plain": [
       "(26.112707522188142, 35.887292477811854)"
      ]
     },
     "execution_count": 3,
     "metadata": {},
     "output_type": "execute_result"
    }
   ],
   "source": [
    "st.norm(31, 6/np.sqrt(10)).interval(alpha=0.99)"
   ]
  },
  {
   "cell_type": "markdown",
   "metadata": {},
   "source": [
    "---\n",
    "b) Wie viele Beobachtungen sind nötig, um die Breite des in Teilaufgabe a) bestimmten zweiseitigen Vertrauensintervalls auf die Hälfte zu reduzieren?\n",
    "\n",
    "Wie viele (unabhängige) Bestimmungen des Bleigehalts müssen geplant werden, falls der Bleigehalt mit einer Stichprobe „1 ppb genau” bestimmt werden soll, d.h., wenn die Breite des 99% des Konfidenzintervalls nicht grösser als 1ppb sein soll?"
   ]
  },
  {
   "cell_type": "markdown",
   "metadata": {},
   "source": [
    "\\begin{equation}\n",
    "\\hat{\\sigma} = \\frac{6}{\\sqrt{10}}\\\\\n",
    "\\hat{\\sigma_2} = \\frac{6}{2\\sqrt{10}} \\\\\n",
    "\\sqrt{n_2} = 2\\sqrt{10} \\\\\n",
    "n_2 = 40\n",
    "\\end{equation}"
   ]
  },
  {
   "cell_type": "code",
   "execution_count": 11,
   "metadata": {},
   "outputs": [
    {
     "data": {
      "text/plain": [
       "(40.00000000000001, (28.556353761094073, 33.44364623890593))"
      ]
     },
     "execution_count": 11,
     "metadata": {},
     "output_type": "execute_result"
    }
   ],
   "source": [
    "x = (2 * np.sqrt(10))**2  # wir teilen durch das doppelte (doppelte genauigkeit) -> vier mal so viele messwerte\n",
    "\n",
    "x, st.norm(31, 6/np.sqrt(x)).interval(alpha=0.99)"
   ]
  },
  {
   "cell_type": "markdown",
   "metadata": {},
   "source": [
    "Wenn wir eine standardabweichung von 1ppb haben wollen:\n",
    "\n",
    "```python\n",
    "(30.5, 31.5) = st.norm(31, 6/np.sqrt(x)).interval(alpha=0.99)\n",
    "```"
   ]
  },
  {
   "cell_type": "code",
   "execution_count": 17,
   "metadata": {},
   "outputs": [
    {
     "data": {
      "text/plain": [
       "(30.48483413929022, 31.51516586070978)"
      ]
     },
     "execution_count": 17,
     "metadata": {},
     "output_type": "execute_result"
    }
   ],
   "source": [
    "st.norm(31, 0.2).interval(alpha=0.99)"
   ]
  },
  {
   "cell_type": "markdown",
   "metadata": {},
   "source": [
    "---\n",
    "c) Normalerweise ist die Standardabweichung $σ$ unbekannt. Um welchen Faktor verändert sich die Breite des zweiseitigen Vertrauensintervalls in Teilaufgabe a), wenn man die Standardabweichung aus den Daten geschätzt hat, als $\\hat{σ}=6$?"
   ]
  },
  {
   "cell_type": "code",
   "execution_count": 30,
   "metadata": {},
   "outputs": [
    {
     "data": {
      "text/plain": [
       "(24.833870595963425, 37.166129404036575)"
      ]
     },
     "execution_count": 30,
     "metadata": {},
     "output_type": "execute_result"
    }
   ],
   "source": [
    "# wir nehmen eine t-verteilung an\n",
    "st.t.interval(alpha=0.99, df=10-1, loc=31, scale=6/np.sqrt(10))"
   ]
  }
 ],
 "metadata": {
  "kernelspec": {
   "display_name": "Python 3",
   "language": "python",
   "name": "python3"
  },
  "language_info": {
   "codemirror_mode": {
    "name": "ipython",
    "version": 3
   },
   "file_extension": ".py",
   "mimetype": "text/x-python",
   "name": "python",
   "nbconvert_exporter": "python",
   "pygments_lexer": "ipython3",
   "version": "3.6.9"
  }
 },
 "nbformat": 4,
 "nbformat_minor": 2
}
